{
 "cells": [
  {
   "cell_type": "markdown",
   "metadata": {},
   "source": [
    "1.Scrapping data from wbesite"
   ]
  },
  {
   "cell_type": "markdown",
   "metadata": {},
   "source": [
    "1. Importing libraries essetial to scrapping"
   ]
  },
  {
   "cell_type": "code",
   "execution_count": 1,
   "metadata": {},
   "outputs": [],
   "source": [
    "import requests\n",
    "from bs4 import BeautifulSoup\n",
    "import pandas as pd"
   ]
  },
  {
   "cell_type": "markdown",
   "metadata": {},
   "source": [
    "2. Pointing url to fetch data from"
   ]
  },
  {
   "cell_type": "code",
   "execution_count": 2,
   "metadata": {},
   "outputs": [],
   "source": [
    "url = 'https://www.pig333.com/markets_and_prices/'\n",
    "response = requests.get(url)\n",
    "\n",
    "soup = BeautifulSoup(response.text, \"html.parser\")"
   ]
  },
  {
   "cell_type": "markdown",
   "metadata": {},
   "source": [
    "3. Locating tags where the data in relevant fetching into a dataframe"
   ]
  },
  {
   "cell_type": "code",
   "execution_count": 3,
   "metadata": {},
   "outputs": [],
   "source": [
    "markets = []\n",
    "listings = soup.find('div', {'class': 'contingut'}).find_all('div', {'class': 'preu_mercat'})"
   ]
  },
  {
   "cell_type": "markdown",
   "metadata": {},
   "source": [
    "4. Fetching data from located tags in the HTML into a proper dataframe."
   ]
  },
  {
   "cell_type": "code",
   "execution_count": 4,
   "metadata": {},
   "outputs": [
    {
     "data": {
      "text/html": [
       "<div>\n",
       "<style scoped>\n",
       "    .dataframe tbody tr th:only-of-type {\n",
       "        vertical-align: middle;\n",
       "    }\n",
       "\n",
       "    .dataframe tbody tr th {\n",
       "        vertical-align: top;\n",
       "    }\n",
       "\n",
       "    .dataframe thead th {\n",
       "        text-align: right;\n",
       "    }\n",
       "</style>\n",
       "<table border=\"1\" class=\"dataframe\">\n",
       "  <thead>\n",
       "    <tr style=\"text-align: right;\">\n",
       "      <th></th>\n",
       "      <th>pais</th>\n",
       "      <th>data</th>\n",
       "      <th>preco</th>\n",
       "      <th>moeda</th>\n",
       "      <th>unidade</th>\n",
       "      <th>referencia</th>\n",
       "      <th>variacao</th>\n",
       "    </tr>\n",
       "  </thead>\n",
       "  <tbody>\n",
       "    <tr>\n",
       "      <th>0</th>\n",
       "      <td>Belgium - Danis</td>\n",
       "      <td>6 Aug</td>\n",
       "      <td>0.960</td>\n",
       "      <td>EUR</td>\n",
       "      <td>kg</td>\n",
       "      <td>Live</td>\n",
       "      <td>0%</td>\n",
       "    </tr>\n",
       "    <tr>\n",
       "      <th>1</th>\n",
       "      <td>Denmark</td>\n",
       "      <td>30 Jul</td>\n",
       "      <td>10.50</td>\n",
       "      <td>DKK</td>\n",
       "      <td>kg</td>\n",
       "      <td>Carcass 60%</td>\n",
       "      <td>0%</td>\n",
       "    </tr>\n",
       "    <tr>\n",
       "      <th>2</th>\n",
       "      <td>France - MPB</td>\n",
       "      <td>3 Aug</td>\n",
       "      <td>1.293</td>\n",
       "      <td>EUR</td>\n",
       "      <td>kg</td>\n",
       "      <td>Carcass 56 TMV</td>\n",
       "      <td>0%</td>\n",
       "    </tr>\n",
       "    <tr>\n",
       "      <th>3</th>\n",
       "      <td>Germany</td>\n",
       "      <td>5 Aug</td>\n",
       "      <td>1.470</td>\n",
       "      <td>EUR</td>\n",
       "      <td>kg</td>\n",
       "      <td>Carcass 57%</td>\n",
       "      <td>0%</td>\n",
       "    </tr>\n",
       "    <tr>\n",
       "      <th>4</th>\n",
       "      <td>Italy</td>\n",
       "      <td>6 Aug</td>\n",
       "      <td>1.325</td>\n",
       "      <td>EUR</td>\n",
       "      <td>kg</td>\n",
       "      <td>160/176 kg Live</td>\n",
       "      <td>3.9%</td>\n",
       "    </tr>\n",
       "    <tr>\n",
       "      <th>5</th>\n",
       "      <td>Netherlands - Beursprijs</td>\n",
       "      <td>31 Jul</td>\n",
       "      <td>1.050</td>\n",
       "      <td>EUR</td>\n",
       "      <td>kg</td>\n",
       "      <td>Live</td>\n",
       "      <td>0%</td>\n",
       "    </tr>\n",
       "    <tr>\n",
       "      <th>6</th>\n",
       "      <td>Poland</td>\n",
       "      <td>31 Jul</td>\n",
       "      <td>6.441</td>\n",
       "      <td>PLN</td>\n",
       "      <td>kg</td>\n",
       "      <td>Carcass 57%</td>\n",
       "      <td>2.9%</td>\n",
       "    </tr>\n",
       "    <tr>\n",
       "      <th>7</th>\n",
       "      <td>Romania</td>\n",
       "      <td>24 Jul</td>\n",
       "      <td>536.79</td>\n",
       "      <td>RON</td>\n",
       "      <td>100kg</td>\n",
       "      <td>Live</td>\n",
       "      <td>2.0%</td>\n",
       "    </tr>\n",
       "    <tr>\n",
       "      <th>8</th>\n",
       "      <td>Russia</td>\n",
       "      <td>22 Jul</td>\n",
       "      <td>120.40</td>\n",
       "      <td>RUB</td>\n",
       "      <td>kg</td>\n",
       "      <td>Live</td>\n",
       "      <td>2.6%</td>\n",
       "    </tr>\n",
       "    <tr>\n",
       "      <th>9</th>\n",
       "      <td>Spain - Lleida</td>\n",
       "      <td>6 Aug</td>\n",
       "      <td>1.300</td>\n",
       "      <td>EUR</td>\n",
       "      <td>kg</td>\n",
       "      <td>Live</td>\n",
       "      <td>0%</td>\n",
       "    </tr>\n",
       "    <tr>\n",
       "      <th>10</th>\n",
       "      <td>United Kingdom</td>\n",
       "      <td>1 Aug</td>\n",
       "      <td>164.68</td>\n",
       "      <td>GBX</td>\n",
       "      <td>kg</td>\n",
       "      <td>SPP Euro Spec</td>\n",
       "      <td>0.3%</td>\n",
       "    </tr>\n",
       "    <tr>\n",
       "      <th>11</th>\n",
       "      <td>Ukraine</td>\n",
       "      <td>31 Jul</td>\n",
       "      <td>46.30</td>\n",
       "      <td>UAH</td>\n",
       "      <td>kg</td>\n",
       "      <td>Live</td>\n",
       "      <td>4.6%</td>\n",
       "    </tr>\n",
       "    <tr>\n",
       "      <th>12</th>\n",
       "      <td>Argentine</td>\n",
       "      <td>24 Jul</td>\n",
       "      <td>60.51</td>\n",
       "      <td>ARS</td>\n",
       "      <td>kg</td>\n",
       "      <td>Live</td>\n",
       "      <td>3.0%</td>\n",
       "    </tr>\n",
       "    <tr>\n",
       "      <th>13</th>\n",
       "      <td>Brazil - Paraná</td>\n",
       "      <td>3 Aug</td>\n",
       "      <td>6.140</td>\n",
       "      <td>BRL</td>\n",
       "      <td>kg</td>\n",
       "      <td>Live</td>\n",
       "      <td>1.5%</td>\n",
       "    </tr>\n",
       "    <tr>\n",
       "      <th>14</th>\n",
       "      <td>Brazil - Santa Catarina</td>\n",
       "      <td>6 Aug</td>\n",
       "      <td>6.610</td>\n",
       "      <td>BRL</td>\n",
       "      <td>kg</td>\n",
       "      <td>Live</td>\n",
       "      <td>4.3%</td>\n",
       "    </tr>\n",
       "    <tr>\n",
       "      <th>15</th>\n",
       "      <td>Canada - Ontario</td>\n",
       "      <td>31 Jul</td>\n",
       "      <td>127.01</td>\n",
       "      <td>CAD</td>\n",
       "      <td>100kg</td>\n",
       "      <td>Carcass</td>\n",
       "      <td>6.1%</td>\n",
       "    </tr>\n",
       "    <tr>\n",
       "      <th>16</th>\n",
       "      <td>Canada - Quebec</td>\n",
       "      <td>7 Aug</td>\n",
       "      <td>148.18</td>\n",
       "      <td>CAD</td>\n",
       "      <td>100kg</td>\n",
       "      <td>Carcass</td>\n",
       "      <td>4.9%</td>\n",
       "    </tr>\n",
       "    <tr>\n",
       "      <th>17</th>\n",
       "      <td>Chile</td>\n",
       "      <td>31 Jul</td>\n",
       "      <td>1280</td>\n",
       "      <td>CLP</td>\n",
       "      <td>kg</td>\n",
       "      <td>Live</td>\n",
       "      <td>0%</td>\n",
       "    </tr>\n",
       "    <tr>\n",
       "      <th>18</th>\n",
       "      <td>Colombia</td>\n",
       "      <td>31 Jul</td>\n",
       "      <td>5465</td>\n",
       "      <td>COP</td>\n",
       "      <td>kg</td>\n",
       "      <td>Live</td>\n",
       "      <td>1.4%</td>\n",
       "    </tr>\n",
       "    <tr>\n",
       "      <th>19</th>\n",
       "      <td>Mexico - Sonora</td>\n",
       "      <td>31 Jul</td>\n",
       "      <td>25.40</td>\n",
       "      <td>MXN</td>\n",
       "      <td>kg</td>\n",
       "      <td>Live</td>\n",
       "      <td>4.2%</td>\n",
       "    </tr>\n",
       "    <tr>\n",
       "      <th>20</th>\n",
       "      <td>USA - Iowa/Minnesota</td>\n",
       "      <td>6 Aug</td>\n",
       "      <td>38.81</td>\n",
       "      <td>USD</td>\n",
       "      <td>cwt</td>\n",
       "      <td>Carcass</td>\n",
       "      <td>2.0%</td>\n",
       "    </tr>\n",
       "    <tr>\n",
       "      <th>21</th>\n",
       "      <td>China</td>\n",
       "      <td>29 Jul</td>\n",
       "      <td>36.94</td>\n",
       "      <td>CNY</td>\n",
       "      <td>kg</td>\n",
       "      <td>Live</td>\n",
       "      <td>0.4%</td>\n",
       "    </tr>\n",
       "    <tr>\n",
       "      <th>22</th>\n",
       "      <td>South Korea</td>\n",
       "      <td>6 Aug</td>\n",
       "      <td>4279</td>\n",
       "      <td>KRW</td>\n",
       "      <td>kg</td>\n",
       "      <td>Carcass</td>\n",
       "      <td>2.7%</td>\n",
       "    </tr>\n",
       "  </tbody>\n",
       "</table>\n",
       "</div>"
      ],
      "text/plain": [
       "                        pais    data   preco moeda unidade       referencia  \\\n",
       "0            Belgium - Danis   6 Aug   0.960   EUR      kg             Live   \n",
       "1                    Denmark  30 Jul   10.50   DKK      kg      Carcass 60%   \n",
       "2               France - MPB   3 Aug   1.293   EUR      kg   Carcass 56 TMV   \n",
       "3                    Germany   5 Aug   1.470   EUR      kg      Carcass 57%   \n",
       "4                      Italy   6 Aug   1.325   EUR      kg  160/176 kg Live   \n",
       "5   Netherlands - Beursprijs  31 Jul   1.050   EUR      kg             Live   \n",
       "6                     Poland  31 Jul   6.441   PLN      kg      Carcass 57%   \n",
       "7                    Romania  24 Jul  536.79   RON   100kg             Live   \n",
       "8                     Russia  22 Jul  120.40   RUB      kg             Live   \n",
       "9             Spain - Lleida   6 Aug   1.300   EUR      kg             Live   \n",
       "10            United Kingdom   1 Aug  164.68   GBX      kg    SPP Euro Spec   \n",
       "11                   Ukraine  31 Jul   46.30   UAH      kg             Live   \n",
       "12                 Argentine  24 Jul   60.51   ARS      kg             Live   \n",
       "13           Brazil - Paraná   3 Aug   6.140   BRL      kg             Live   \n",
       "14   Brazil - Santa Catarina   6 Aug   6.610   BRL      kg             Live   \n",
       "15          Canada - Ontario  31 Jul  127.01   CAD   100kg          Carcass   \n",
       "16           Canada - Quebec   7 Aug  148.18   CAD   100kg          Carcass   \n",
       "17                     Chile  31 Jul    1280   CLP      kg             Live   \n",
       "18                  Colombia  31 Jul    5465   COP      kg             Live   \n",
       "19           Mexico - Sonora  31 Jul   25.40   MXN      kg             Live   \n",
       "20      USA - Iowa/Minnesota   6 Aug   38.81   USD     cwt          Carcass   \n",
       "21                     China  29 Jul   36.94   CNY      kg             Live   \n",
       "22               South Korea   6 Aug    4279   KRW      kg          Carcass   \n",
       "\n",
       "   variacao  \n",
       "0        0%  \n",
       "1        0%  \n",
       "2        0%  \n",
       "3        0%  \n",
       "4      3.9%  \n",
       "5        0%  \n",
       "6      2.9%  \n",
       "7      2.0%  \n",
       "8      2.6%  \n",
       "9        0%  \n",
       "10     0.3%  \n",
       "11     4.6%  \n",
       "12     3.0%  \n",
       "13     1.5%  \n",
       "14     4.3%  \n",
       "15     6.1%  \n",
       "16     4.9%  \n",
       "17       0%  \n",
       "18     1.4%  \n",
       "19     4.2%  \n",
       "20     2.0%  \n",
       "21     0.4%  \n",
       "22     2.7%  "
      ]
     },
     "execution_count": 4,
     "metadata": {},
     "output_type": "execute_result"
    }
   ],
   "source": [
    "for item in listings:\n",
    "    market = {}\n",
    "\n",
    "    market['pais'] = item.find('a', {'class': 'titol'}).getText()\n",
    "    market['data'] = item.select('.col-titol > span.data')[0].getText()\n",
    "    market['preco'] = item.find('span', {'class': 'preu'}).getText()\n",
    "    market['moeda'] = item.find('span', {'class': 'moneda'}).getText()\n",
    "    market['unidade'] = item.find('span', {'class': 'unitats'}).getText()\n",
    "    market['referencia'] = item.find('span', {'class': 'data fs9'}).getText()\n",
    "    market['variacao'] = item.find('span', {'class': 'perc'}).getText()\n",
    "\n",
    "    markets.append(market)\n",
    "  \n",
    "\n",
    "pricing = pd.DataFrame(markets)\n",
    "pricing"
   ]
  },
  {
   "cell_type": "code",
   "execution_count": 5,
   "metadata": {},
   "outputs": [],
   "source": [
    "##4.1 exporting prices for swine into a CSV file"
   ]
  },
  {
   "cell_type": "code",
   "execution_count": 6,
   "metadata": {},
   "outputs": [
    {
     "ename": "FileNotFoundError",
     "evalue": "[Errno 2] No such file or directory: '/Users/lstorino/PythonTests/scrapping/Pig333/data/pricetoday782020.csv'",
     "output_type": "error",
     "traceback": [
      "\u001b[1;31m---------------------------------------------------------------------------\u001b[0m",
      "\u001b[1;31mFileNotFoundError\u001b[0m                         Traceback (most recent call last)",
      "\u001b[1;32m<ipython-input-6-f93a5a1767d0>\u001b[0m in \u001b[0;36m<module>\u001b[1;34m\u001b[0m\n\u001b[0;32m      3\u001b[0m \u001b[0mcurrent_date\u001b[0m \u001b[1;33m=\u001b[0m \u001b[0mdatetime\u001b[0m\u001b[1;33m.\u001b[0m\u001b[0mdatetime\u001b[0m\u001b[1;33m.\u001b[0m\u001b[0mnow\u001b[0m\u001b[1;33m(\u001b[0m\u001b[1;33m)\u001b[0m\u001b[1;33m\u001b[0m\u001b[1;33m\u001b[0m\u001b[0m\n\u001b[0;32m      4\u001b[0m \u001b[0mfilename\u001b[0m \u001b[1;33m=\u001b[0m \u001b[0mstr\u001b[0m\u001b[1;33m(\u001b[0m\u001b[0mcurrent_date\u001b[0m\u001b[1;33m.\u001b[0m\u001b[0mday\u001b[0m\u001b[1;33m)\u001b[0m\u001b[1;33m+\u001b[0m\u001b[0mstr\u001b[0m\u001b[1;33m(\u001b[0m\u001b[0mcurrent_date\u001b[0m\u001b[1;33m.\u001b[0m\u001b[0mmonth\u001b[0m\u001b[1;33m)\u001b[0m\u001b[1;33m+\u001b[0m\u001b[0mstr\u001b[0m\u001b[1;33m(\u001b[0m\u001b[0mcurrent_date\u001b[0m\u001b[1;33m.\u001b[0m\u001b[0myear\u001b[0m\u001b[1;33m)\u001b[0m\u001b[1;33m\u001b[0m\u001b[1;33m\u001b[0m\u001b[0m\n\u001b[1;32m----> 5\u001b[1;33m \u001b[0mpricing\u001b[0m\u001b[1;33m.\u001b[0m\u001b[0mto_csv\u001b[0m\u001b[1;33m(\u001b[0m\u001b[0mstr\u001b[0m\u001b[1;33m(\u001b[0m\u001b[1;34m'/Users/lstorino/PythonTests/scrapping/Pig333/data/pricetoday'\u001b[0m\u001b[1;33m+\u001b[0m\u001b[0mfilename\u001b[0m\u001b[1;33m+\u001b[0m \u001b[1;34m'.csv'\u001b[0m\u001b[1;33m)\u001b[0m\u001b[1;33m)\u001b[0m\u001b[1;33m\u001b[0m\u001b[1;33m\u001b[0m\u001b[0m\n\u001b[0m\u001b[0;32m      6\u001b[0m \u001b[1;31m#pricing.to_csv('/Users/lstorino/PythonTests/scrapping/Pig333/data/pricetoday.csv')\u001b[0m\u001b[1;33m\u001b[0m\u001b[1;33m\u001b[0m\u001b[1;33m\u001b[0m\u001b[0m\n",
      "\u001b[1;32m~\\anaconda3\\lib\\site-packages\\pandas\\core\\generic.py\u001b[0m in \u001b[0;36mto_csv\u001b[1;34m(self, path_or_buf, sep, na_rep, float_format, columns, header, index, index_label, mode, encoding, compression, quoting, quotechar, line_terminator, chunksize, date_format, doublequote, escapechar, decimal)\u001b[0m\n\u001b[0;32m   3202\u001b[0m             \u001b[0mdecimal\u001b[0m\u001b[1;33m=\u001b[0m\u001b[0mdecimal\u001b[0m\u001b[1;33m,\u001b[0m\u001b[1;33m\u001b[0m\u001b[1;33m\u001b[0m\u001b[0m\n\u001b[0;32m   3203\u001b[0m         )\n\u001b[1;32m-> 3204\u001b[1;33m         \u001b[0mformatter\u001b[0m\u001b[1;33m.\u001b[0m\u001b[0msave\u001b[0m\u001b[1;33m(\u001b[0m\u001b[1;33m)\u001b[0m\u001b[1;33m\u001b[0m\u001b[1;33m\u001b[0m\u001b[0m\n\u001b[0m\u001b[0;32m   3205\u001b[0m \u001b[1;33m\u001b[0m\u001b[0m\n\u001b[0;32m   3206\u001b[0m         \u001b[1;32mif\u001b[0m \u001b[0mpath_or_buf\u001b[0m \u001b[1;32mis\u001b[0m \u001b[1;32mNone\u001b[0m\u001b[1;33m:\u001b[0m\u001b[1;33m\u001b[0m\u001b[1;33m\u001b[0m\u001b[0m\n",
      "\u001b[1;32m~\\anaconda3\\lib\\site-packages\\pandas\\io\\formats\\csvs.py\u001b[0m in \u001b[0;36msave\u001b[1;34m(self)\u001b[0m\n\u001b[0;32m    182\u001b[0m             \u001b[0mclose\u001b[0m \u001b[1;33m=\u001b[0m \u001b[1;32mFalse\u001b[0m\u001b[1;33m\u001b[0m\u001b[1;33m\u001b[0m\u001b[0m\n\u001b[0;32m    183\u001b[0m         \u001b[1;32melse\u001b[0m\u001b[1;33m:\u001b[0m\u001b[1;33m\u001b[0m\u001b[1;33m\u001b[0m\u001b[0m\n\u001b[1;32m--> 184\u001b[1;33m             f, handles = get_handle(\n\u001b[0m\u001b[0;32m    185\u001b[0m                 \u001b[0mself\u001b[0m\u001b[1;33m.\u001b[0m\u001b[0mpath_or_buf\u001b[0m\u001b[1;33m,\u001b[0m\u001b[1;33m\u001b[0m\u001b[1;33m\u001b[0m\u001b[0m\n\u001b[0;32m    186\u001b[0m                 \u001b[0mself\u001b[0m\u001b[1;33m.\u001b[0m\u001b[0mmode\u001b[0m\u001b[1;33m,\u001b[0m\u001b[1;33m\u001b[0m\u001b[1;33m\u001b[0m\u001b[0m\n",
      "\u001b[1;32m~\\anaconda3\\lib\\site-packages\\pandas\\io\\common.py\u001b[0m in \u001b[0;36mget_handle\u001b[1;34m(path_or_buf, mode, encoding, compression, memory_map, is_text)\u001b[0m\n\u001b[0;32m    426\u001b[0m         \u001b[1;32mif\u001b[0m \u001b[0mencoding\u001b[0m\u001b[1;33m:\u001b[0m\u001b[1;33m\u001b[0m\u001b[1;33m\u001b[0m\u001b[0m\n\u001b[0;32m    427\u001b[0m             \u001b[1;31m# Encoding\u001b[0m\u001b[1;33m\u001b[0m\u001b[1;33m\u001b[0m\u001b[1;33m\u001b[0m\u001b[0m\n\u001b[1;32m--> 428\u001b[1;33m             \u001b[0mf\u001b[0m \u001b[1;33m=\u001b[0m \u001b[0mopen\u001b[0m\u001b[1;33m(\u001b[0m\u001b[0mpath_or_buf\u001b[0m\u001b[1;33m,\u001b[0m \u001b[0mmode\u001b[0m\u001b[1;33m,\u001b[0m \u001b[0mencoding\u001b[0m\u001b[1;33m=\u001b[0m\u001b[0mencoding\u001b[0m\u001b[1;33m,\u001b[0m \u001b[0mnewline\u001b[0m\u001b[1;33m=\u001b[0m\u001b[1;34m\"\"\u001b[0m\u001b[1;33m)\u001b[0m\u001b[1;33m\u001b[0m\u001b[1;33m\u001b[0m\u001b[0m\n\u001b[0m\u001b[0;32m    429\u001b[0m         \u001b[1;32melif\u001b[0m \u001b[0mis_text\u001b[0m\u001b[1;33m:\u001b[0m\u001b[1;33m\u001b[0m\u001b[1;33m\u001b[0m\u001b[0m\n\u001b[0;32m    430\u001b[0m             \u001b[1;31m# No explicit encoding\u001b[0m\u001b[1;33m\u001b[0m\u001b[1;33m\u001b[0m\u001b[1;33m\u001b[0m\u001b[0m\n",
      "\u001b[1;31mFileNotFoundError\u001b[0m: [Errno 2] No such file or directory: '/Users/lstorino/PythonTests/scrapping/Pig333/data/pricetoday782020.csv'"
     ]
    }
   ],
   "source": [
    "import datetime\n",
    "\n",
    "current_date = datetime.datetime.now()\n",
    "filename = str(current_date.day)+str(current_date.month)+str(current_date.year)\n",
    "pricing.to_csv(str('/Users/lstorino/PythonTests/scrapping/Pig333/data/pricetoday'+filename+ '.csv'))\n",
    "#pricing.to_csv('/Users/lstorino/PythonTests/scrapping/Pig333/data/pricetoday.csv')"
   ]
  },
  {
   "cell_type": "markdown",
   "metadata": {},
   "source": [
    "5. Create Unit equalizing column"
   ]
  },
  {
   "cell_type": "markdown",
   "metadata": {},
   "source": [
    "Find the price variants(referencia) that  distorts (dressing percentage) the value of the dafult price of apig at the gate and equalize if for a pig finished at 100kg which is the most popular value refernce discussed"
   ]
  },
  {
   "cell_type": "code",
   "execution_count": null,
   "metadata": {},
   "outputs": [],
   "source": [
    "pricing.referencia.count()"
   ]
  },
  {
   "cell_type": "code",
   "execution_count": null,
   "metadata": {},
   "outputs": [],
   "source": [
    "pricing.referencia.unique()"
   ]
  },
  {
   "cell_type": "code",
   "execution_count": null,
   "metadata": {},
   "outputs": [],
   "source": [
    "distortion_tag=['Live', 'Carcass 60%', 'Carcass 56 TMV', 'Carcass 57%',\n",
    "       '160/176 kg Live', 'SPP Euro Spec', 'Carcass']"
   ]
  },
  {
   "cell_type": "code",
   "execution_count": null,
   "metadata": {},
   "outputs": [],
   "source": [
    "live_pig_price_at_gate=[]"
   ]
  },
  {
   "cell_type": "code",
   "execution_count": null,
   "metadata": {},
   "outputs": [],
   "source": [
    "if distort_tag=='Live':\n",
    "    pricing.preco*100;\n",
    "if distort_tag=='Carcass 60%':\n",
    "    pricing.preco*1.66\n",
    "if distort_tag=='Carcass 56 TMV':\n",
    "    pricing.preco*1.78;\n",
    "if distort_tag=='Carcass 57%':\n",
    "    pricing.preco*1.75\n",
    "if distort_tag=='Carcass':\n",
    "    pricing.preco*1;\n",
    "if distort_tag=='160/176 kg Live':\n",
    "    pricing.preco*0,60\n",
    "\n",
    "    \n",
    "    "
   ]
  },
  {
   "cell_type": "code",
   "execution_count": null,
   "metadata": {},
   "outputs": [],
   "source": []
  },
  {
   "cell_type": "code",
   "execution_count": null,
   "metadata": {},
   "outputs": [],
   "source": []
  },
  {
   "cell_type": "markdown",
   "metadata": {},
   "source": [
    "6. Creat Currency equalizing column"
   ]
  },
  {
   "cell_type": "markdown",
   "metadata": {},
   "source": [
    "6.1 Finding the currency conversions on a website online to keep the values always updated with FX figures"
   ]
  },
  {
   "cell_type": "code",
   "execution_count": 7,
   "metadata": {},
   "outputs": [
    {
     "name": "stdout",
     "output_type": "stream",
     "text": [
      "{'AED': 3.673011, 'AFN': 76.815544, 'ALL': 104.097446, 'AMD': 481.616228, 'ANG': 1.790215, 'AOA': 584.635, 'ARS': 72.6929, 'AUD': 1.384719, 'AWG': 1.8, 'AZN': 1.7025, 'BAM': 1.647091, 'BBD': 2, 'BDT': 84.56829, 'BGN': 1.651535, 'BHD': 0.376946, 'BIF': 1922.79247, 'BMD': 1, 'BND': 1.367305, 'BOB': 6.886493, 'BRL': 5.333, 'BSD': 1, 'BTC': 8.4748658e-05, 'BTN': 74.586316, 'BWP': 11.719616, 'BYN': 2.43885, 'BZD': 2.010283, 'CAD': 1.334025, 'CDF': 1966.716066, 'CHF': 0.912359, 'CLF': 0.027908, 'CLP': 773.499929, 'CNH': 6.96101, 'CNY': 6.9611, 'COP': 3776.051167, 'CRC': 588.069077, 'CUC': 1, 'CUP': 25.75, 'CVE': 93.6, 'CZK': 22.222921, 'DJF': 177.54922, 'DKK': 6.292118, 'DOP': 58.312946, 'DZD': 128.231413, 'EGP': 15.9644, 'ERN': 15.003088, 'ETB': 35.3989, 'EUR': 0.844571, 'FJD': 2.1178, 'FKP': 0.763202, 'GBP': 0.763202, 'GEL': 3.09, 'GGP': 0.763202, 'GHS': 5.759084, 'GIP': 0.763202, 'GMD': 51.85, 'GNF': 9621.389995, 'GTQ': 7.68686, 'GYD': 208.387061, 'HKD': 7.75011, 'HNL': 24.635246, 'HRK': 6.302, 'HTG': 112.290691, 'HUF': 292.622865, 'IDR': 14664.25, 'ILS': 3.40922, 'IMP': 0.763202, 'INR': 74.947547, 'IQD': 1190.615362, 'IRR': 42105, 'ISK': 135.29, 'JEP': 0.763202, 'JMD': 147.961815, 'JOD': 0.709, 'JPY': 105.59419231, 'KES': 108.02, 'KGS': 76.915368, 'KHR': 4100.455134, 'KMF': 415.900001, 'KPW': 900, 'KRW': 1185.35, 'KWD': 0.305614, 'KYD': 0.831112, 'KZT': 417.863836, 'LAK': 9046.819732, 'LBP': 1507.944743, 'LKR': 184.929199, 'LRD': 199.266704, 'LSL': 17.569151, 'LYD': 1.370506, 'MAD': 9.22755, 'MDL': 16.549537, 'MGA': 3824.709761, 'MKD': 51.888718, 'MMK': 1356.859488, 'MNT': 2846.63311, 'MOP': 7.961463, 'MRO': 357, 'MRU': 38.346716, 'MUR': 39.84, 'MVR': 15.41, 'MWK': 740.390356, 'MXN': 22.456159, 'MYR': 4.188501, 'MZN': 71.015, 'NAD': 17.53, 'NGN': 387.251667, 'NIO': 34.721608, 'NOK': 8.986395, 'NPR': 119.339401, 'NZD': 1.500123, 'OMR': 0.384963, 'PAB': 1, 'PEN': 3.535153, 'PGK': 3.509215, 'PHP': 49.005, 'PKR': 168.099338, 'PLN': 3.726654, 'PYG': 6909.470287, 'QAR': 3.641, 'RON': 4.0858, 'RSD': 99.32, 'RUB': 73.519, 'RWF': 956.846445, 'SAR': 3.749899, 'SBD': 8.266721, 'SCR': 17.82916, 'SDG': 55.325, 'SEK': 8.702884, 'SGD': 1.37035, 'SHP': 0.763202, 'SLL': 9826.321102, 'SOS': 576.948574, 'SRD': 7.458, 'SSP': 130.26, 'STD': 21292.767074, 'STN': 20.766667, 'SVC': 8.727141, 'SYP': 511.882454, 'SZL': 17.568898, 'THB': 31.153657, 'TJS': 10.284853, 'TMT': 3.5, 'TND': 2.713, 'TOP': 2.2715, 'TRY': 7.319573, 'TTD': 6.744902, 'TWD': 29.3945, 'TZS': 2325, 'UAH': 27.621237, 'UGX': 3674.779871, 'USD': 1, 'UYU': 42.568079, 'UZS': 10182.71334, 'VEF': 248487.642241, 'VES': 265359.92784, 'VND': 23183.65597, 'VUV': 113.456729, 'WST': 2.616041, 'XAF': 554.002221, 'XAG': 0.03520323, 'XAU': 0.00048452, 'XCD': 2.70255, 'XDR': 0.70826, 'XOF': 554.002221, 'XPD': 0.00045692, 'XPF': 100.784122, 'XPT': 0.00102278, 'YER': 250.399984, 'ZAR': 17.581389, 'ZMW': 18.305943, 'ZWL': 322}\n"
     ]
    }
   ],
   "source": [
    "api_url = \"https://openexchangerates.org/api/latest.json?app_id=84f0e7f007024e6aa0c5fc52f419b104\"\n",
    "r = requests.get(api_url)\n",
    "\n",
    "r.raise_for_status()\n",
    "result = r.json()\n",
    "rates = result['rates']\n",
    "print(rates)"
   ]
  },
  {
   "cell_type": "code",
   "execution_count": 11,
   "metadata": {},
   "outputs": [
    {
     "data": {
      "text/html": [
       "<div>\n",
       "<style scoped>\n",
       "    .dataframe tbody tr th:only-of-type {\n",
       "        vertical-align: middle;\n",
       "    }\n",
       "\n",
       "    .dataframe tbody tr th {\n",
       "        vertical-align: top;\n",
       "    }\n",
       "\n",
       "    .dataframe thead th {\n",
       "        text-align: right;\n",
       "    }\n",
       "</style>\n",
       "<table border=\"1\" class=\"dataframe\">\n",
       "  <thead>\n",
       "    <tr style=\"text-align: right;\">\n",
       "      <th></th>\n",
       "      <th>AED</th>\n",
       "      <th>AFN</th>\n",
       "      <th>ALL</th>\n",
       "      <th>AMD</th>\n",
       "      <th>ANG</th>\n",
       "      <th>AOA</th>\n",
       "      <th>ARS</th>\n",
       "      <th>AUD</th>\n",
       "      <th>AWG</th>\n",
       "      <th>AZN</th>\n",
       "      <th>...</th>\n",
       "      <th>XCD</th>\n",
       "      <th>XDR</th>\n",
       "      <th>XOF</th>\n",
       "      <th>XPD</th>\n",
       "      <th>XPF</th>\n",
       "      <th>XPT</th>\n",
       "      <th>YER</th>\n",
       "      <th>ZAR</th>\n",
       "      <th>ZMW</th>\n",
       "      <th>ZWL</th>\n",
       "    </tr>\n",
       "  </thead>\n",
       "  <tbody>\n",
       "    <tr>\n",
       "      <th>0</th>\n",
       "      <td>3.673011</td>\n",
       "      <td>76.815544</td>\n",
       "      <td>104.097446</td>\n",
       "      <td>481.616228</td>\n",
       "      <td>1.790215</td>\n",
       "      <td>584.635</td>\n",
       "      <td>72.6929</td>\n",
       "      <td>1.384719</td>\n",
       "      <td>1.8</td>\n",
       "      <td>1.7025</td>\n",
       "      <td>...</td>\n",
       "      <td>2.70255</td>\n",
       "      <td>0.70826</td>\n",
       "      <td>554.002221</td>\n",
       "      <td>0.000457</td>\n",
       "      <td>100.784122</td>\n",
       "      <td>0.001023</td>\n",
       "      <td>250.399984</td>\n",
       "      <td>17.581389</td>\n",
       "      <td>18.305943</td>\n",
       "      <td>322</td>\n",
       "    </tr>\n",
       "  </tbody>\n",
       "</table>\n",
       "<p>1 rows × 171 columns</p>\n",
       "</div>"
      ],
      "text/plain": [
       "        AED        AFN         ALL         AMD       ANG      AOA      ARS  \\\n",
       "0  3.673011  76.815544  104.097446  481.616228  1.790215  584.635  72.6929   \n",
       "\n",
       "        AUD  AWG     AZN  ...      XCD      XDR         XOF       XPD  \\\n",
       "0  1.384719  1.8  1.7025  ...  2.70255  0.70826  554.002221  0.000457   \n",
       "\n",
       "          XPF       XPT         YER        ZAR        ZMW  ZWL  \n",
       "0  100.784122  0.001023  250.399984  17.581389  18.305943  322  \n",
       "\n",
       "[1 rows x 171 columns]"
      ]
     },
     "execution_count": 11,
     "metadata": {},
     "output_type": "execute_result"
    }
   ],
   "source": [
    "usdrates = pd.DataFrame([rates])\n",
    "usdrates"
   ]
  },
  {
   "cell_type": "markdown",
   "metadata": {},
   "source": [
    "6.2 Selecting only the currencys I actually need conversion for the quotations I have in each country"
   ]
  },
  {
   "cell_type": "markdown",
   "metadata": {},
   "source": [
    "Filtering the ACTUAL CURRENCIES I need (16 only of actual_currencies) from the total FX rates I've have caputred"
   ]
  },
  {
   "cell_type": "code",
   "execution_count": 9,
   "metadata": {},
   "outputs": [
    {
     "data": {
      "text/plain": [
       "array(['EUR', 'DKK', 'PLN', 'RON', 'RUB', 'GBP', 'UAH', 'ARS', 'BRL',\n",
       "       'CAD', 'CLP', 'COP', 'MXN', 'USD', 'CNY', 'KRW'], dtype=object)"
      ]
     },
     "execution_count": 9,
     "metadata": {},
     "output_type": "execute_result"
    }
   ],
   "source": [
    "actual_currency = pricing['moeda'].unique()\n",
    "actual_currency[5]='GBP'\n",
    "actual_currency"
   ]
  },
  {
   "cell_type": "code",
   "execution_count": 23,
   "metadata": {},
   "outputs": [
    {
     "data": {
      "text/html": [
       "<div>\n",
       "<style scoped>\n",
       "    .dataframe tbody tr th:only-of-type {\n",
       "        vertical-align: middle;\n",
       "    }\n",
       "\n",
       "    .dataframe tbody tr th {\n",
       "        vertical-align: top;\n",
       "    }\n",
       "\n",
       "    .dataframe thead th {\n",
       "        text-align: right;\n",
       "    }\n",
       "</style>\n",
       "<table border=\"1\" class=\"dataframe\">\n",
       "  <thead>\n",
       "    <tr style=\"text-align: right;\">\n",
       "      <th></th>\n",
       "      <th>index</th>\n",
       "      <th>0</th>\n",
       "    </tr>\n",
       "  </thead>\n",
       "  <tbody>\n",
       "    <tr>\n",
       "      <th>0</th>\n",
       "      <td>EUR</td>\n",
       "      <td>0.844571</td>\n",
       "    </tr>\n",
       "    <tr>\n",
       "      <th>1</th>\n",
       "      <td>DKK</td>\n",
       "      <td>6.292118</td>\n",
       "    </tr>\n",
       "    <tr>\n",
       "      <th>2</th>\n",
       "      <td>PLN</td>\n",
       "      <td>3.726654</td>\n",
       "    </tr>\n",
       "    <tr>\n",
       "      <th>3</th>\n",
       "      <td>RON</td>\n",
       "      <td>4.085800</td>\n",
       "    </tr>\n",
       "    <tr>\n",
       "      <th>4</th>\n",
       "      <td>RUB</td>\n",
       "      <td>73.519000</td>\n",
       "    </tr>\n",
       "    <tr>\n",
       "      <th>5</th>\n",
       "      <td>GBP</td>\n",
       "      <td>0.763202</td>\n",
       "    </tr>\n",
       "    <tr>\n",
       "      <th>6</th>\n",
       "      <td>UAH</td>\n",
       "      <td>27.621237</td>\n",
       "    </tr>\n",
       "    <tr>\n",
       "      <th>7</th>\n",
       "      <td>ARS</td>\n",
       "      <td>72.692900</td>\n",
       "    </tr>\n",
       "    <tr>\n",
       "      <th>8</th>\n",
       "      <td>BRL</td>\n",
       "      <td>5.333000</td>\n",
       "    </tr>\n",
       "    <tr>\n",
       "      <th>9</th>\n",
       "      <td>CAD</td>\n",
       "      <td>1.334025</td>\n",
       "    </tr>\n",
       "    <tr>\n",
       "      <th>10</th>\n",
       "      <td>CLP</td>\n",
       "      <td>773.499929</td>\n",
       "    </tr>\n",
       "    <tr>\n",
       "      <th>11</th>\n",
       "      <td>COP</td>\n",
       "      <td>3776.051167</td>\n",
       "    </tr>\n",
       "    <tr>\n",
       "      <th>12</th>\n",
       "      <td>MXN</td>\n",
       "      <td>22.456159</td>\n",
       "    </tr>\n",
       "    <tr>\n",
       "      <th>13</th>\n",
       "      <td>USD</td>\n",
       "      <td>1.000000</td>\n",
       "    </tr>\n",
       "    <tr>\n",
       "      <th>14</th>\n",
       "      <td>CNY</td>\n",
       "      <td>6.961100</td>\n",
       "    </tr>\n",
       "    <tr>\n",
       "      <th>15</th>\n",
       "      <td>KRW</td>\n",
       "      <td>1185.350000</td>\n",
       "    </tr>\n",
       "  </tbody>\n",
       "</table>\n",
       "</div>"
      ],
      "text/plain": [
       "   index            0\n",
       "0    EUR     0.844571\n",
       "1    DKK     6.292118\n",
       "2    PLN     3.726654\n",
       "3    RON     4.085800\n",
       "4    RUB    73.519000\n",
       "5    GBP     0.763202\n",
       "6    UAH    27.621237\n",
       "7    ARS    72.692900\n",
       "8    BRL     5.333000\n",
       "9    CAD     1.334025\n",
       "10   CLP   773.499929\n",
       "11   COP  3776.051167\n",
       "12   MXN    22.456159\n",
       "13   USD     1.000000\n",
       "14   CNY     6.961100\n",
       "15   KRW  1185.350000"
      ]
     },
     "execution_count": 23,
     "metadata": {},
     "output_type": "execute_result"
    }
   ],
   "source": [
    "actual_currency_list = list(actual_currency)\n",
    "usd_daily_rate = usdrates[actual_currency_list]\n",
    "usd_daily_rate.T.reset_index()\n"
   ]
  },
  {
   "cell_type": "code",
   "execution_count": null,
   "metadata": {},
   "outputs": [],
   "source": []
  },
  {
   "cell_type": "markdown",
   "metadata": {},
   "source": [
    "7. Plot histogram of most competitive markets"
   ]
  },
  {
   "cell_type": "code",
   "execution_count": null,
   "metadata": {},
   "outputs": [],
   "source": []
  },
  {
   "cell_type": "code",
   "execution_count": null,
   "metadata": {},
   "outputs": [],
   "source": []
  },
  {
   "cell_type": "markdown",
   "metadata": {},
   "source": [
    "8. Export to CSV file for further temporal analisys"
   ]
  },
  {
   "cell_type": "code",
   "execution_count": null,
   "metadata": {},
   "outputs": [],
   "source": []
  },
  {
   "cell_type": "code",
   "execution_count": null,
   "metadata": {},
   "outputs": [],
   "source": []
  }
 ],
 "metadata": {
  "colab": {
   "name": "Untitled12.ipynb",
   "provenance": [],
   "version": "0.3.2"
  },
  "kernelspec": {
   "display_name": "Python 3",
   "language": "python",
   "name": "python3"
  },
  "language_info": {
   "codemirror_mode": {
    "name": "ipython",
    "version": 3
   },
   "file_extension": ".py",
   "mimetype": "text/x-python",
   "name": "python",
   "nbconvert_exporter": "python",
   "pygments_lexer": "ipython3",
   "version": "3.8.3"
  }
 },
 "nbformat": 4,
 "nbformat_minor": 1
}
