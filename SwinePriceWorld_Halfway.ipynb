{
 "cells": [
  {
   "cell_type": "markdown",
   "metadata": {},
   "source": [
    "1.Scrapping data from wbesite"
   ]
  },
  {
   "cell_type": "markdown",
   "metadata": {},
   "source": [
    "1. Importing libraries essetial to scrapping"
   ]
  },
  {
   "cell_type": "code",
   "execution_count": 2,
   "metadata": {},
   "outputs": [],
   "source": [
    "import requests\n",
    "from bs4 import BeautifulSoup\n",
    "import pandas as pd"
   ]
  },
  {
   "cell_type": "markdown",
   "metadata": {},
   "source": [
    "2. Pointing url to fetch data from"
   ]
  },
  {
   "cell_type": "code",
   "execution_count": 3,
   "metadata": {},
   "outputs": [],
   "source": [
    "url = 'https://www.pig333.com/markets_and_prices/'\n",
    "response = requests.get(url)\n",
    "\n",
    "soup = BeautifulSoup(response.text, \"html.parser\")"
   ]
  },
  {
   "cell_type": "markdown",
   "metadata": {},
   "source": [
    "3. Locating tags where the data in relevant fetching into a dataframe"
   ]
  },
  {
   "cell_type": "code",
   "execution_count": 4,
   "metadata": {},
   "outputs": [],
   "source": [
    "markets = []\n",
    "listings = soup.find('div', {'class': 'contingut'}).find_all('div', {'class': 'preu_mercat'})"
   ]
  },
  {
   "cell_type": "markdown",
   "metadata": {},
   "source": [
    "4. Fetching data from located tags in the HTML into a proper dataframe."
   ]
  },
  {
   "cell_type": "code",
   "execution_count": 5,
   "metadata": {},
   "outputs": [
    {
     "data": {
      "text/html": [
       "<div>\n",
       "<style scoped>\n",
       "    .dataframe tbody tr th:only-of-type {\n",
       "        vertical-align: middle;\n",
       "    }\n",
       "\n",
       "    .dataframe tbody tr th {\n",
       "        vertical-align: top;\n",
       "    }\n",
       "\n",
       "    .dataframe thead th {\n",
       "        text-align: right;\n",
       "    }\n",
       "</style>\n",
       "<table border=\"1\" class=\"dataframe\">\n",
       "  <thead>\n",
       "    <tr style=\"text-align: right;\">\n",
       "      <th></th>\n",
       "      <th>pais</th>\n",
       "      <th>data</th>\n",
       "      <th>preco</th>\n",
       "      <th>moeda</th>\n",
       "      <th>unidade</th>\n",
       "      <th>referencia</th>\n",
       "      <th>variacao</th>\n",
       "    </tr>\n",
       "  </thead>\n",
       "  <tbody>\n",
       "    <tr>\n",
       "      <th>0</th>\n",
       "      <td>Belgium - Danis</td>\n",
       "      <td>30 Jul</td>\n",
       "      <td>0.960</td>\n",
       "      <td>EUR</td>\n",
       "      <td>kg</td>\n",
       "      <td>Live</td>\n",
       "      <td>2.1%</td>\n",
       "    </tr>\n",
       "    <tr>\n",
       "      <th>1</th>\n",
       "      <td>Denmark</td>\n",
       "      <td>30 Jul</td>\n",
       "      <td>10.50</td>\n",
       "      <td>DKK</td>\n",
       "      <td>kg</td>\n",
       "      <td>Carcass 60%</td>\n",
       "      <td>0%</td>\n",
       "    </tr>\n",
       "    <tr>\n",
       "      <th>2</th>\n",
       "      <td>France - MPB</td>\n",
       "      <td>3 Aug</td>\n",
       "      <td>1.293</td>\n",
       "      <td>EUR</td>\n",
       "      <td>kg</td>\n",
       "      <td>Carcass 56 TMV</td>\n",
       "      <td>0%</td>\n",
       "    </tr>\n",
       "    <tr>\n",
       "      <th>3</th>\n",
       "      <td>Germany</td>\n",
       "      <td>5 Aug</td>\n",
       "      <td>1.470</td>\n",
       "      <td>EUR</td>\n",
       "      <td>kg</td>\n",
       "      <td>Carcass 57%</td>\n",
       "      <td>0%</td>\n",
       "    </tr>\n",
       "    <tr>\n",
       "      <th>4</th>\n",
       "      <td>Italy</td>\n",
       "      <td>6 Aug</td>\n",
       "      <td>1.325</td>\n",
       "      <td>EUR</td>\n",
       "      <td>kg</td>\n",
       "      <td>160/176 kg Live</td>\n",
       "      <td>3.9%</td>\n",
       "    </tr>\n",
       "    <tr>\n",
       "      <th>5</th>\n",
       "      <td>Netherlands - Beursprijs</td>\n",
       "      <td>31 Jul</td>\n",
       "      <td>1.050</td>\n",
       "      <td>EUR</td>\n",
       "      <td>kg</td>\n",
       "      <td>Live</td>\n",
       "      <td>0%</td>\n",
       "    </tr>\n",
       "    <tr>\n",
       "      <th>6</th>\n",
       "      <td>Poland</td>\n",
       "      <td>24 Jul</td>\n",
       "      <td>6.261</td>\n",
       "      <td>PLN</td>\n",
       "      <td>kg</td>\n",
       "      <td>Carcass 57%</td>\n",
       "      <td>6.6%</td>\n",
       "    </tr>\n",
       "    <tr>\n",
       "      <th>7</th>\n",
       "      <td>Romania</td>\n",
       "      <td>24 Jul</td>\n",
       "      <td>536.79</td>\n",
       "      <td>RON</td>\n",
       "      <td>100kg</td>\n",
       "      <td>Live</td>\n",
       "      <td>2.0%</td>\n",
       "    </tr>\n",
       "    <tr>\n",
       "      <th>8</th>\n",
       "      <td>Russia</td>\n",
       "      <td>22 Jul</td>\n",
       "      <td>120.40</td>\n",
       "      <td>RUB</td>\n",
       "      <td>kg</td>\n",
       "      <td>Live</td>\n",
       "      <td>2.6%</td>\n",
       "    </tr>\n",
       "    <tr>\n",
       "      <th>9</th>\n",
       "      <td>Spain - Lleida</td>\n",
       "      <td>30 Jul</td>\n",
       "      <td>1.300</td>\n",
       "      <td>EUR</td>\n",
       "      <td>kg</td>\n",
       "      <td>Live</td>\n",
       "      <td>0%</td>\n",
       "    </tr>\n",
       "    <tr>\n",
       "      <th>10</th>\n",
       "      <td>United Kingdom</td>\n",
       "      <td>1 Aug</td>\n",
       "      <td>164.68</td>\n",
       "      <td>GBX</td>\n",
       "      <td>kg</td>\n",
       "      <td>SPP Euro Spec</td>\n",
       "      <td>0.3%</td>\n",
       "    </tr>\n",
       "    <tr>\n",
       "      <th>11</th>\n",
       "      <td>Ukraine</td>\n",
       "      <td>31 Jul</td>\n",
       "      <td>46.30</td>\n",
       "      <td>UAH</td>\n",
       "      <td>kg</td>\n",
       "      <td>Live</td>\n",
       "      <td>4.6%</td>\n",
       "    </tr>\n",
       "    <tr>\n",
       "      <th>12</th>\n",
       "      <td>Argentine</td>\n",
       "      <td>24 Jul</td>\n",
       "      <td>60.51</td>\n",
       "      <td>ARS</td>\n",
       "      <td>kg</td>\n",
       "      <td>Live</td>\n",
       "      <td>3.0%</td>\n",
       "    </tr>\n",
       "    <tr>\n",
       "      <th>13</th>\n",
       "      <td>Brazil - Paraná</td>\n",
       "      <td>3 Aug</td>\n",
       "      <td>6.140</td>\n",
       "      <td>BRL</td>\n",
       "      <td>kg</td>\n",
       "      <td>Live</td>\n",
       "      <td>1.5%</td>\n",
       "    </tr>\n",
       "    <tr>\n",
       "      <th>14</th>\n",
       "      <td>Brazil - Santa Catarina</td>\n",
       "      <td>30 Jul</td>\n",
       "      <td>6.340</td>\n",
       "      <td>BRL</td>\n",
       "      <td>kg</td>\n",
       "      <td>Live</td>\n",
       "      <td>2.6%</td>\n",
       "    </tr>\n",
       "    <tr>\n",
       "      <th>15</th>\n",
       "      <td>Canada - Ontario</td>\n",
       "      <td>31 Jul</td>\n",
       "      <td>127.01</td>\n",
       "      <td>CAD</td>\n",
       "      <td>100kg</td>\n",
       "      <td>Carcass</td>\n",
       "      <td>6.1%</td>\n",
       "    </tr>\n",
       "    <tr>\n",
       "      <th>16</th>\n",
       "      <td>Canada - Quebec</td>\n",
       "      <td>24 Jul</td>\n",
       "      <td>157.35</td>\n",
       "      <td>CAD</td>\n",
       "      <td>100kg</td>\n",
       "      <td>Carcass</td>\n",
       "      <td>2.7%</td>\n",
       "    </tr>\n",
       "    <tr>\n",
       "      <th>17</th>\n",
       "      <td>Chile</td>\n",
       "      <td>31 Jul</td>\n",
       "      <td>1280</td>\n",
       "      <td>CLP</td>\n",
       "      <td>kg</td>\n",
       "      <td>Live</td>\n",
       "      <td>0%</td>\n",
       "    </tr>\n",
       "    <tr>\n",
       "      <th>18</th>\n",
       "      <td>Colombia</td>\n",
       "      <td>31 Jul</td>\n",
       "      <td>5465</td>\n",
       "      <td>COP</td>\n",
       "      <td>kg</td>\n",
       "      <td>Live</td>\n",
       "      <td>1.4%</td>\n",
       "    </tr>\n",
       "    <tr>\n",
       "      <th>19</th>\n",
       "      <td>Mexico - Sonora</td>\n",
       "      <td>31 Jul</td>\n",
       "      <td>25.40</td>\n",
       "      <td>MXN</td>\n",
       "      <td>kg</td>\n",
       "      <td>Live</td>\n",
       "      <td>4.2%</td>\n",
       "    </tr>\n",
       "    <tr>\n",
       "      <th>20</th>\n",
       "      <td>USA - Iowa/Minnesota</td>\n",
       "      <td>4 Aug</td>\n",
       "      <td>38.27</td>\n",
       "      <td>USD</td>\n",
       "      <td>cwt</td>\n",
       "      <td>Carcass</td>\n",
       "      <td>3.3%</td>\n",
       "    </tr>\n",
       "    <tr>\n",
       "      <th>21</th>\n",
       "      <td>China</td>\n",
       "      <td>29 Jul</td>\n",
       "      <td>36.94</td>\n",
       "      <td>CNY</td>\n",
       "      <td>kg</td>\n",
       "      <td>Live</td>\n",
       "      <td>0.4%</td>\n",
       "    </tr>\n",
       "    <tr>\n",
       "      <th>22</th>\n",
       "      <td>South Korea</td>\n",
       "      <td>31 Jul</td>\n",
       "      <td>4138</td>\n",
       "      <td>KRW</td>\n",
       "      <td>kg</td>\n",
       "      <td>Carcass</td>\n",
       "      <td>7.5%</td>\n",
       "    </tr>\n",
       "  </tbody>\n",
       "</table>\n",
       "</div>"
      ],
      "text/plain": [
       "                        pais    data   preco moeda unidade       referencia  \\\n",
       "0            Belgium - Danis  30 Jul   0.960   EUR      kg             Live   \n",
       "1                    Denmark  30 Jul   10.50   DKK      kg      Carcass 60%   \n",
       "2               France - MPB   3 Aug   1.293   EUR      kg   Carcass 56 TMV   \n",
       "3                    Germany   5 Aug   1.470   EUR      kg      Carcass 57%   \n",
       "4                      Italy   6 Aug   1.325   EUR      kg  160/176 kg Live   \n",
       "5   Netherlands - Beursprijs  31 Jul   1.050   EUR      kg             Live   \n",
       "6                     Poland  24 Jul   6.261   PLN      kg      Carcass 57%   \n",
       "7                    Romania  24 Jul  536.79   RON   100kg             Live   \n",
       "8                     Russia  22 Jul  120.40   RUB      kg             Live   \n",
       "9             Spain - Lleida  30 Jul   1.300   EUR      kg             Live   \n",
       "10            United Kingdom   1 Aug  164.68   GBX      kg    SPP Euro Spec   \n",
       "11                   Ukraine  31 Jul   46.30   UAH      kg             Live   \n",
       "12                 Argentine  24 Jul   60.51   ARS      kg             Live   \n",
       "13           Brazil - Paraná   3 Aug   6.140   BRL      kg             Live   \n",
       "14   Brazil - Santa Catarina  30 Jul   6.340   BRL      kg             Live   \n",
       "15          Canada - Ontario  31 Jul  127.01   CAD   100kg          Carcass   \n",
       "16           Canada - Quebec  24 Jul  157.35   CAD   100kg          Carcass   \n",
       "17                     Chile  31 Jul    1280   CLP      kg             Live   \n",
       "18                  Colombia  31 Jul    5465   COP      kg             Live   \n",
       "19           Mexico - Sonora  31 Jul   25.40   MXN      kg             Live   \n",
       "20      USA - Iowa/Minnesota   4 Aug   38.27   USD     cwt          Carcass   \n",
       "21                     China  29 Jul   36.94   CNY      kg             Live   \n",
       "22               South Korea  31 Jul    4138   KRW      kg          Carcass   \n",
       "\n",
       "   variacao  \n",
       "0      2.1%  \n",
       "1        0%  \n",
       "2        0%  \n",
       "3        0%  \n",
       "4      3.9%  \n",
       "5        0%  \n",
       "6      6.6%  \n",
       "7      2.0%  \n",
       "8      2.6%  \n",
       "9        0%  \n",
       "10     0.3%  \n",
       "11     4.6%  \n",
       "12     3.0%  \n",
       "13     1.5%  \n",
       "14     2.6%  \n",
       "15     6.1%  \n",
       "16     2.7%  \n",
       "17       0%  \n",
       "18     1.4%  \n",
       "19     4.2%  \n",
       "20     3.3%  \n",
       "21     0.4%  \n",
       "22     7.5%  "
      ]
     },
     "execution_count": 5,
     "metadata": {},
     "output_type": "execute_result"
    }
   ],
   "source": [
    "for item in listings:\n",
    "    market = {}\n",
    "\n",
    "    market['pais'] = item.find('a', {'class': 'titol'}).getText()\n",
    "    market['data'] = item.select('.col-titol > span.data')[0].getText()\n",
    "    market['preco'] = item.find('span', {'class': 'preu'}).getText()\n",
    "    market['moeda'] = item.find('span', {'class': 'moneda'}).getText()\n",
    "    market['unidade'] = item.find('span', {'class': 'unitats'}).getText()\n",
    "    market['referencia'] = item.find('span', {'class': 'data fs9'}).getText()\n",
    "    market['variacao'] = item.find('span', {'class': 'perc'}).getText()\n",
    "\n",
    "    markets.append(market)\n",
    "  \n",
    "\n",
    "pricing = pd.DataFrame(markets)\n",
    "pricing"
   ]
  },
  {
   "cell_type": "code",
   "execution_count": 6,
   "metadata": {},
   "outputs": [],
   "source": [
    "##4.1 exporting prices for swine into a CSV file"
   ]
  },
  {
   "cell_type": "code",
   "execution_count": 7,
   "metadata": {},
   "outputs": [],
   "source": [
    "import datetime\n",
    "\n",
    "current_date = datetime.datetime.now()\n",
    "filename = str(current_date.day)+str(current_date.month)+str(current_date.year)\n",
    "pricing.to_csv(str('/Users/lstorino/PythonTests/scrapping/Pig333/data/pricetoday'+filename+ '.csv'))\n",
    "#pricing.to_csv('/Users/lstorino/PythonTests/scrapping/Pig333/data/pricetoday.csv')"
   ]
  },
  {
   "cell_type": "markdown",
   "metadata": {},
   "source": [
    "5. Create Unit equalizing column"
   ]
  },
  {
   "cell_type": "markdown",
   "metadata": {},
   "source": [
    "Find the price variants(referencia) that  distorts (dressing percentage) the value of the dafult price of apig at the gate and equalize if for a pig finished at 100kg which is the most popular value refernce discussed"
   ]
  },
  {
   "cell_type": "code",
   "execution_count": 27,
   "metadata": {},
   "outputs": [
    {
     "data": {
      "text/plain": [
       "23"
      ]
     },
     "execution_count": 27,
     "metadata": {},
     "output_type": "execute_result"
    }
   ],
   "source": [
    "pricing.referencia.count()"
   ]
  },
  {
   "cell_type": "code",
   "execution_count": 28,
   "metadata": {},
   "outputs": [
    {
     "data": {
      "text/plain": [
       "array(['Live', 'Carcass 60%', 'Carcass 56 TMV', 'Carcass 57%',\n",
       "       '160/176 kg Live', 'SPP Euro Spec', 'Carcass'], dtype=object)"
      ]
     },
     "execution_count": 28,
     "metadata": {},
     "output_type": "execute_result"
    }
   ],
   "source": [
    "pricing.referencia.unique()"
   ]
  },
  {
   "cell_type": "code",
   "execution_count": 30,
   "metadata": {},
   "outputs": [],
   "source": [
    "distortion_tag=['Live', 'Carcass 60%', 'Carcass 56 TMV', 'Carcass 57%',\n",
    "       '160/176 kg Live', 'SPP Euro Spec', 'Carcass']"
   ]
  },
  {
   "cell_type": "code",
   "execution_count": 33,
   "metadata": {},
   "outputs": [],
   "source": [
    "live_pig_price_at_gate=[]"
   ]
  },
  {
   "cell_type": "code",
   "execution_count": null,
   "metadata": {},
   "outputs": [],
   "source": [
    "if distort_tag=='Live':\n",
    "    pricing.preco*100;\n",
    "if distort_tag=='Carcass 60%':\n",
    "    pricing.preco*1.66\n",
    "if distort_tag=='Carcass 56 TMV':\n",
    "    pricing.preco*1.78;\n",
    "if distort_tag=='Carcass 57%':\n",
    "    pricing.preco*1.75\n",
    "if distort_tag=='Carcass':\n",
    "    pricing.preco*1;\n",
    "if distort_tag=='160/176 kg Live':\n",
    "    pricing.preco*0,60\n",
    "\n",
    "    \n",
    "    "
   ]
  },
  {
   "cell_type": "code",
   "execution_count": null,
   "metadata": {},
   "outputs": [],
   "source": []
  },
  {
   "cell_type": "code",
   "execution_count": null,
   "metadata": {},
   "outputs": [],
   "source": []
  },
  {
   "cell_type": "markdown",
   "metadata": {},
   "source": [
    "6. Creat Currency equalizing column"
   ]
  },
  {
   "cell_type": "markdown",
   "metadata": {},
   "source": [
    "6.1 Finding the currency conversions on a website online to keep the values always updated with FX figures"
   ]
  },
  {
   "cell_type": "code",
   "execution_count": 8,
   "metadata": {},
   "outputs": [
    {
     "name": "stdout",
     "output_type": "stream",
     "text": [
      "{'AED': 3.673011, 'AFN': 76.67772, 'ALL': 104.438694, 'AMD': 481.616228, 'ANG': 1.796145, 'AOA': 579.635, 'ARS': 72.574, 'AUD': 1.392458, 'AWG': 1.8002, 'AZN': 1.7025, 'BAM': 1.652491, 'BBD': 2, 'BDT': 84.848397, 'BGN': 1.653411, 'BHD': 0.376981, 'BIF': 1929.157294, 'BMD': 1, 'BND': 1.371823, 'BOB': 6.909301, 'BRL': 5.2917, 'BSD': 1, 'BTC': 8.5376989e-05, 'BTN': 74.833994, 'BWP': 11.758334, 'BYN': 2.446845, 'BZD': 2.016975, 'CAD': 1.329572, 'CDF': 1973.235717, 'CHF': 0.907916, 'CLF': 0.027956, 'CLP': 781.399711, 'CNH': 6.950503, 'CNY': 6.951, 'COP': 3774.910685, 'CRC': 590.021814, 'CUC': 1, 'CUP': 25.75, 'CVE': 94.37, 'CZK': 22.105549, 'DJF': 178.135794, 'DKK': 6.288025, 'DOP': 58.50806, 'DZD': 128.24, 'EGP': 15.95, 'ERN': 15.002869, 'ETB': 35.103231, 'EUR': 0.84404, 'FJD': 2.1255, 'FKP': 0.759597, 'GBP': 0.759597, 'GEL': 3.085, 'GGP': 0.759597, 'GHS': 5.778621, 'GIP': 0.759597, 'GMD': 51.87, 'GNF': 9653.424256, 'GTQ': 7.712385, 'GYD': 209.095727, 'HKD': 7.75035, 'HNL': 24.716842, 'HRK': 6.30424, 'HTG': 110.714598, 'HUF': 292.3155, 'IDR': 14581.555698, 'ILS': 3.40344, 'IMP': 0.759597, 'INR': 74.964202, 'IQD': 1194.580361, 'IRR': 42105, 'ISK': 135.23, 'JEP': 0.759597, 'JMD': 147.32907, 'JOD': 0.709, 'JPY': 105.40475, 'KES': 108.05, 'KGS': 76.906072, 'KHR': 4114.033336, 'KMF': 419.969922, 'KPW': 900, 'KRW': 1186.414977, 'KWD': 0.305459, 'KYD': 0.833865, 'KZT': 419.233264, 'LAK': 9076.570845, 'LBP': 1512.926478, 'LKR': 185.5417, 'LRD': 199.325061, 'LSL': 17.191095, 'LYD': 1.374998, 'MAD': 9.257878, 'MDL': 16.519464, 'MGA': 3837.353804, 'MKD': 52.058824, 'MMK': 1361.355019, 'MNT': 2847.186264, 'MOP': 7.987765, 'MRO': 357, 'MRU': 38.474701, 'MUR': 39.7, 'MVR': 15.4, 'MWK': 742.848831, 'MXN': 22.48823, 'MYR': 4.188501, 'MZN': 70.900008, 'NAD': 17.2, 'NGN': 388.53, 'NIO': 34.836907, 'NOK': 8.988486, 'NPR': 119.734695, 'NZD': 1.505004, 'OMR': 0.385, 'PAB': 1, 'PEN': 3.546832, 'PGK': 3.520808, 'PHP': 49.095646, 'PKR': 168.656041, 'PLN': 3.720247, 'PYG': 6932.258412, 'QAR': 3.643753, 'RON': 4.0828, 'RSD': 99.25, 'RUB': 73.372, 'RWF': 960.053995, 'SAR': 3.75026, 'SBD': 8.232683, 'SCR': 17.829455, 'SDG': 55.3, 'SEK': 8.710053, 'SGD': 1.370666, 'SHP': 0.759597, 'SLL': 9826.321273, 'SOS': 578.879034, 'SRD': 7.458, 'SSP': 130.26, 'STD': 21292.767074, 'STN': 20.9, 'SVC': 8.756121, 'SYP': 511.934649, 'SZL': 17.191035, 'THB': 31.090001, 'TJS': 10.318656, 'TMT': 3.51, 'TND': 2.724, 'TOP': 2.27615, 'TRY': 7.242023, 'TTD': 6.767414, 'TWD': 29.372201, 'TZS': 2326.524, 'UAH': 27.711785, 'UGX': 3687.245131, 'USD': 1, 'UYU': 42.811576, 'UZS': 10216.048492, 'VEF': 248487.642241, 'VES': 258740.322582, 'VND': 23166.338492, 'VUV': 113.62847, 'WST': 2.614242, 'XAF': 553.653621, 'XAG': 0.03548996, 'XAU': 0.00048567, 'XCD': 2.70255, 'XDR': 0.709284, 'XOF': 553.653621, 'XPD': 0.00045254, 'XPF': 100.720705, 'XPT': 0.00101601, 'YER': 250.350066, 'ZAR': 17.523721, 'ZMW': 18.36642, 'ZWL': 322}\n"
     ]
    }
   ],
   "source": [
    "api_url = \"https://openexchangerates.org/api/latest.json?app_id=84f0e7f007024e6aa0c5fc52f419b104\"\n",
    "r = requests.get(api_url)\n",
    "\n",
    "r.raise_for_status()\n",
    "result = r.json()\n",
    "rates = result['rates']\n",
    "print(rates)"
   ]
  },
  {
   "cell_type": "code",
   "execution_count": 22,
   "metadata": {},
   "outputs": [
    {
     "data": {
      "text/html": [
       "<div>\n",
       "<style scoped>\n",
       "    .dataframe tbody tr th:only-of-type {\n",
       "        vertical-align: middle;\n",
       "    }\n",
       "\n",
       "    .dataframe tbody tr th {\n",
       "        vertical-align: top;\n",
       "    }\n",
       "\n",
       "    .dataframe thead th {\n",
       "        text-align: right;\n",
       "    }\n",
       "</style>\n",
       "<table border=\"1\" class=\"dataframe\">\n",
       "  <thead>\n",
       "    <tr style=\"text-align: right;\">\n",
       "      <th></th>\n",
       "      <th>0</th>\n",
       "    </tr>\n",
       "  </thead>\n",
       "  <tbody>\n",
       "    <tr>\n",
       "      <th>AED</th>\n",
       "      <td>3.673011</td>\n",
       "    </tr>\n",
       "    <tr>\n",
       "      <th>AFN</th>\n",
       "      <td>76.677720</td>\n",
       "    </tr>\n",
       "    <tr>\n",
       "      <th>ALL</th>\n",
       "      <td>104.438694</td>\n",
       "    </tr>\n",
       "    <tr>\n",
       "      <th>AMD</th>\n",
       "      <td>481.616228</td>\n",
       "    </tr>\n",
       "    <tr>\n",
       "      <th>ANG</th>\n",
       "      <td>1.796145</td>\n",
       "    </tr>\n",
       "    <tr>\n",
       "      <th>...</th>\n",
       "      <td>...</td>\n",
       "    </tr>\n",
       "    <tr>\n",
       "      <th>XPT</th>\n",
       "      <td>0.001016</td>\n",
       "    </tr>\n",
       "    <tr>\n",
       "      <th>YER</th>\n",
       "      <td>250.350066</td>\n",
       "    </tr>\n",
       "    <tr>\n",
       "      <th>ZAR</th>\n",
       "      <td>17.523721</td>\n",
       "    </tr>\n",
       "    <tr>\n",
       "      <th>ZMW</th>\n",
       "      <td>18.366420</td>\n",
       "    </tr>\n",
       "    <tr>\n",
       "      <th>ZWL</th>\n",
       "      <td>322.000000</td>\n",
       "    </tr>\n",
       "  </tbody>\n",
       "</table>\n",
       "<p>171 rows × 1 columns</p>\n",
       "</div>"
      ],
      "text/plain": [
       "              0\n",
       "AED    3.673011\n",
       "AFN   76.677720\n",
       "ALL  104.438694\n",
       "AMD  481.616228\n",
       "ANG    1.796145\n",
       "..          ...\n",
       "XPT    0.001016\n",
       "YER  250.350066\n",
       "ZAR   17.523721\n",
       "ZMW   18.366420\n",
       "ZWL  322.000000\n",
       "\n",
       "[171 rows x 1 columns]"
      ]
     },
     "execution_count": 22,
     "metadata": {},
     "output_type": "execute_result"
    }
   ],
   "source": [
    "usdrates = pd.DataFrame([rates])\n",
    "usdrates.T"
   ]
  },
  {
   "cell_type": "markdown",
   "metadata": {},
   "source": [
    "6.2 Selecting only the currencys I actually need conversion for the quotations I have in each country"
   ]
  },
  {
   "cell_type": "markdown",
   "metadata": {},
   "source": [
    "Filtering the ACTUAL CURRENCIES I need (16 only of actual_currencies) from the total FX rates I've have caputred"
   ]
  },
  {
   "cell_type": "code",
   "execution_count": 14,
   "metadata": {},
   "outputs": [
    {
     "data": {
      "text/plain": [
       "array(['EUR', 'DKK', 'PLN', 'RON', 'RUB', 'GBP', 'UAH', 'ARS', 'BRL',\n",
       "       'CAD', 'CLP', 'COP', 'MXN', 'USD', 'CNY', 'KRW'], dtype=object)"
      ]
     },
     "execution_count": 14,
     "metadata": {},
     "output_type": "execute_result"
    }
   ],
   "source": [
    "actual_currency = pricing['moeda'].unique()\n",
    "actual_currency[5]='GBP'\n",
    "actual_currency"
   ]
  },
  {
   "cell_type": "code",
   "execution_count": 18,
   "metadata": {},
   "outputs": [
    {
     "data": {
      "text/html": [
       "<div>\n",
       "<style scoped>\n",
       "    .dataframe tbody tr th:only-of-type {\n",
       "        vertical-align: middle;\n",
       "    }\n",
       "\n",
       "    .dataframe tbody tr th {\n",
       "        vertical-align: top;\n",
       "    }\n",
       "\n",
       "    .dataframe thead th {\n",
       "        text-align: right;\n",
       "    }\n",
       "</style>\n",
       "<table border=\"1\" class=\"dataframe\">\n",
       "  <thead>\n",
       "    <tr style=\"text-align: right;\">\n",
       "      <th></th>\n",
       "      <th>0</th>\n",
       "    </tr>\n",
       "  </thead>\n",
       "  <tbody>\n",
       "    <tr>\n",
       "      <th>EUR</th>\n",
       "      <td>0.844040</td>\n",
       "    </tr>\n",
       "    <tr>\n",
       "      <th>DKK</th>\n",
       "      <td>6.288025</td>\n",
       "    </tr>\n",
       "    <tr>\n",
       "      <th>PLN</th>\n",
       "      <td>3.720247</td>\n",
       "    </tr>\n",
       "    <tr>\n",
       "      <th>RON</th>\n",
       "      <td>4.082800</td>\n",
       "    </tr>\n",
       "    <tr>\n",
       "      <th>RUB</th>\n",
       "      <td>73.372000</td>\n",
       "    </tr>\n",
       "    <tr>\n",
       "      <th>GBP</th>\n",
       "      <td>0.759597</td>\n",
       "    </tr>\n",
       "    <tr>\n",
       "      <th>UAH</th>\n",
       "      <td>27.711785</td>\n",
       "    </tr>\n",
       "    <tr>\n",
       "      <th>ARS</th>\n",
       "      <td>72.574000</td>\n",
       "    </tr>\n",
       "    <tr>\n",
       "      <th>BRL</th>\n",
       "      <td>5.291700</td>\n",
       "    </tr>\n",
       "    <tr>\n",
       "      <th>CAD</th>\n",
       "      <td>1.329572</td>\n",
       "    </tr>\n",
       "    <tr>\n",
       "      <th>CLP</th>\n",
       "      <td>781.399711</td>\n",
       "    </tr>\n",
       "    <tr>\n",
       "      <th>COP</th>\n",
       "      <td>3774.910685</td>\n",
       "    </tr>\n",
       "    <tr>\n",
       "      <th>MXN</th>\n",
       "      <td>22.488230</td>\n",
       "    </tr>\n",
       "    <tr>\n",
       "      <th>USD</th>\n",
       "      <td>1.000000</td>\n",
       "    </tr>\n",
       "    <tr>\n",
       "      <th>CNY</th>\n",
       "      <td>6.951000</td>\n",
       "    </tr>\n",
       "    <tr>\n",
       "      <th>KRW</th>\n",
       "      <td>1186.414977</td>\n",
       "    </tr>\n",
       "  </tbody>\n",
       "</table>\n",
       "</div>"
      ],
      "text/plain": [
       "               0\n",
       "EUR     0.844040\n",
       "DKK     6.288025\n",
       "PLN     3.720247\n",
       "RON     4.082800\n",
       "RUB    73.372000\n",
       "GBP     0.759597\n",
       "UAH    27.711785\n",
       "ARS    72.574000\n",
       "BRL     5.291700\n",
       "CAD     1.329572\n",
       "CLP   781.399711\n",
       "COP  3774.910685\n",
       "MXN    22.488230\n",
       "USD     1.000000\n",
       "CNY     6.951000\n",
       "KRW  1186.414977"
      ]
     },
     "execution_count": 18,
     "metadata": {},
     "output_type": "execute_result"
    }
   ],
   "source": [
    "actual_currency_list = list(actual_currency)\n",
    "usd_daily_rate=usdrates[actual_currency_list]\n",
    "usd_daily_rate.T"
   ]
  },
  {
   "cell_type": "code",
   "execution_count": null,
   "metadata": {},
   "outputs": [],
   "source": []
  },
  {
   "cell_type": "code",
   "execution_count": null,
   "metadata": {},
   "outputs": [],
   "source": []
  },
  {
   "cell_type": "markdown",
   "metadata": {},
   "source": [
    "7. Plot histogram of most competitive markets"
   ]
  },
  {
   "cell_type": "code",
   "execution_count": null,
   "metadata": {},
   "outputs": [],
   "source": []
  },
  {
   "cell_type": "code",
   "execution_count": null,
   "metadata": {},
   "outputs": [],
   "source": []
  },
  {
   "cell_type": "markdown",
   "metadata": {},
   "source": [
    "8. Export to CSV file for further temporal analisys"
   ]
  },
  {
   "cell_type": "code",
   "execution_count": null,
   "metadata": {},
   "outputs": [],
   "source": []
  },
  {
   "cell_type": "code",
   "execution_count": null,
   "metadata": {},
   "outputs": [],
   "source": []
  }
 ],
 "metadata": {
  "colab": {
   "name": "Untitled12.ipynb",
   "provenance": [],
   "version": "0.3.2"
  },
  "kernelspec": {
   "display_name": "Python 3",
   "language": "python",
   "name": "python3"
  },
  "language_info": {
   "codemirror_mode": {
    "name": "ipython",
    "version": 3
   },
   "file_extension": ".py",
   "mimetype": "text/x-python",
   "name": "python",
   "nbconvert_exporter": "python",
   "pygments_lexer": "ipython3",
   "version": "3.7.6"
  }
 },
 "nbformat": 4,
 "nbformat_minor": 1
}
