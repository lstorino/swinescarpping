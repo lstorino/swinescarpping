{
 "cells": [
  {
   "cell_type": "markdown",
   "metadata": {},
   "source": [
    "1.Scrapping data from wbesite"
   ]
  },
  {
   "cell_type": "markdown",
   "metadata": {},
   "source": [
    "1. Importing libraries essetial to scrapping"
   ]
  },
  {
   "cell_type": "code",
   "execution_count": 1,
   "metadata": {},
   "outputs": [],
   "source": [
    "import requests\n",
    "from bs4 import BeautifulSoup\n",
    "import pandas as pd"
   ]
  },
  {
   "cell_type": "markdown",
   "metadata": {},
   "source": [
    "2. Pointing url to fetch data from"
   ]
  },
  {
   "cell_type": "code",
   "execution_count": 2,
   "metadata": {},
   "outputs": [],
   "source": [
    "url = 'https://www.pig333.com/markets_and_prices/'\n",
    "response = requests.get(url)\n",
    "\n",
    "soup = BeautifulSoup(response.text, \"html.parser\")"
   ]
  },
  {
   "cell_type": "markdown",
   "metadata": {},
   "source": [
    "3. Locating tags where the data in relevant fetching into a dataframe"
   ]
  },
  {
   "cell_type": "code",
   "execution_count": 3,
   "metadata": {},
   "outputs": [],
   "source": [
    "markets = []\n",
    "listings = soup.find('div', {'class': 'contingut'}).find_all('div', {'class': 'preu_mercat'})"
   ]
  },
  {
   "cell_type": "markdown",
   "metadata": {},
   "source": [
    "4. Fetching data from located tags in the HTML into a proper dataframe."
   ]
  },
  {
   "cell_type": "code",
   "execution_count": 4,
   "metadata": {},
   "outputs": [
    {
     "data": {
      "text/html": [
       "<div>\n",
       "<style scoped>\n",
       "    .dataframe tbody tr th:only-of-type {\n",
       "        vertical-align: middle;\n",
       "    }\n",
       "\n",
       "    .dataframe tbody tr th {\n",
       "        vertical-align: top;\n",
       "    }\n",
       "\n",
       "    .dataframe thead th {\n",
       "        text-align: right;\n",
       "    }\n",
       "</style>\n",
       "<table border=\"1\" class=\"dataframe\">\n",
       "  <thead>\n",
       "    <tr style=\"text-align: right;\">\n",
       "      <th></th>\n",
       "      <th>pais</th>\n",
       "      <th>data</th>\n",
       "      <th>preco</th>\n",
       "      <th>moeda</th>\n",
       "      <th>unidade</th>\n",
       "      <th>referencia</th>\n",
       "      <th>variacao</th>\n",
       "    </tr>\n",
       "  </thead>\n",
       "  <tbody>\n",
       "    <tr>\n",
       "      <th>0</th>\n",
       "      <td>Belgium - Danis</td>\n",
       "      <td>30 Jul</td>\n",
       "      <td>0.960</td>\n",
       "      <td>EUR</td>\n",
       "      <td>kg</td>\n",
       "      <td>Live</td>\n",
       "      <td>2.1%</td>\n",
       "    </tr>\n",
       "    <tr>\n",
       "      <th>1</th>\n",
       "      <td>Denmark</td>\n",
       "      <td>30 Jul</td>\n",
       "      <td>10.50</td>\n",
       "      <td>DKK</td>\n",
       "      <td>kg</td>\n",
       "      <td>Carcass 60%</td>\n",
       "      <td>0%</td>\n",
       "    </tr>\n",
       "    <tr>\n",
       "      <th>2</th>\n",
       "      <td>France - MPB</td>\n",
       "      <td>3 Aug</td>\n",
       "      <td>1.293</td>\n",
       "      <td>EUR</td>\n",
       "      <td>kg</td>\n",
       "      <td>Carcass 56 TMV</td>\n",
       "      <td>0%</td>\n",
       "    </tr>\n",
       "    <tr>\n",
       "      <th>3</th>\n",
       "      <td>Germany</td>\n",
       "      <td>29 Jul</td>\n",
       "      <td>1.470</td>\n",
       "      <td>EUR</td>\n",
       "      <td>kg</td>\n",
       "      <td>Carcass 57%</td>\n",
       "      <td>0%</td>\n",
       "    </tr>\n",
       "    <tr>\n",
       "      <th>4</th>\n",
       "      <td>Italy</td>\n",
       "      <td>30 Jul</td>\n",
       "      <td>1.275</td>\n",
       "      <td>EUR</td>\n",
       "      <td>kg</td>\n",
       "      <td>160/176 kg Live</td>\n",
       "      <td>3.2%</td>\n",
       "    </tr>\n",
       "    <tr>\n",
       "      <th>5</th>\n",
       "      <td>Netherlands - Beursprijs</td>\n",
       "      <td>31 Jul</td>\n",
       "      <td>1.050</td>\n",
       "      <td>EUR</td>\n",
       "      <td>kg</td>\n",
       "      <td>Live</td>\n",
       "      <td>0%</td>\n",
       "    </tr>\n",
       "    <tr>\n",
       "      <th>6</th>\n",
       "      <td>Poland</td>\n",
       "      <td>24 Jul</td>\n",
       "      <td>6.261</td>\n",
       "      <td>PLN</td>\n",
       "      <td>kg</td>\n",
       "      <td>Carcass 57%</td>\n",
       "      <td>6.6%</td>\n",
       "    </tr>\n",
       "    <tr>\n",
       "      <th>7</th>\n",
       "      <td>Romania</td>\n",
       "      <td>24 Jul</td>\n",
       "      <td>536.79</td>\n",
       "      <td>RON</td>\n",
       "      <td>100kg</td>\n",
       "      <td>Live</td>\n",
       "      <td>2.0%</td>\n",
       "    </tr>\n",
       "    <tr>\n",
       "      <th>8</th>\n",
       "      <td>Russia</td>\n",
       "      <td>22 Jul</td>\n",
       "      <td>120.40</td>\n",
       "      <td>RUB</td>\n",
       "      <td>kg</td>\n",
       "      <td>Live</td>\n",
       "      <td>2.6%</td>\n",
       "    </tr>\n",
       "    <tr>\n",
       "      <th>9</th>\n",
       "      <td>Spain - Lleida</td>\n",
       "      <td>30 Jul</td>\n",
       "      <td>1.300</td>\n",
       "      <td>EUR</td>\n",
       "      <td>kg</td>\n",
       "      <td>Live</td>\n",
       "      <td>0%</td>\n",
       "    </tr>\n",
       "    <tr>\n",
       "      <th>10</th>\n",
       "      <td>United Kingdom</td>\n",
       "      <td>25 Jul</td>\n",
       "      <td>165.18</td>\n",
       "      <td>GBX</td>\n",
       "      <td>kg</td>\n",
       "      <td>SPP Euro Spec</td>\n",
       "      <td>0.3%</td>\n",
       "    </tr>\n",
       "    <tr>\n",
       "      <th>11</th>\n",
       "      <td>Ukraine</td>\n",
       "      <td>3 Jul</td>\n",
       "      <td>43.60</td>\n",
       "      <td>UAH</td>\n",
       "      <td>kg</td>\n",
       "      <td>Live</td>\n",
       "      <td>2.1%</td>\n",
       "    </tr>\n",
       "    <tr>\n",
       "      <th>12</th>\n",
       "      <td>Argentine</td>\n",
       "      <td>24 Jul</td>\n",
       "      <td>60.51</td>\n",
       "      <td>ARS</td>\n",
       "      <td>kg</td>\n",
       "      <td>Live</td>\n",
       "      <td>3.0%</td>\n",
       "    </tr>\n",
       "    <tr>\n",
       "      <th>13</th>\n",
       "      <td>Brazil - Paraná</td>\n",
       "      <td>27 Jul</td>\n",
       "      <td>6.050</td>\n",
       "      <td>BRL</td>\n",
       "      <td>kg</td>\n",
       "      <td>Live</td>\n",
       "      <td>16.3%</td>\n",
       "    </tr>\n",
       "    <tr>\n",
       "      <th>14</th>\n",
       "      <td>Brazil - Santa Catarina</td>\n",
       "      <td>30 Jul</td>\n",
       "      <td>6.340</td>\n",
       "      <td>BRL</td>\n",
       "      <td>kg</td>\n",
       "      <td>Live</td>\n",
       "      <td>2.6%</td>\n",
       "    </tr>\n",
       "    <tr>\n",
       "      <th>15</th>\n",
       "      <td>Canada - Ontario</td>\n",
       "      <td>24 Jul</td>\n",
       "      <td>119.70</td>\n",
       "      <td>CAD</td>\n",
       "      <td>100kg</td>\n",
       "      <td>Carcass</td>\n",
       "      <td>4.3%</td>\n",
       "    </tr>\n",
       "    <tr>\n",
       "      <th>16</th>\n",
       "      <td>Canada - Quebec</td>\n",
       "      <td>24 Jul</td>\n",
       "      <td>157.35</td>\n",
       "      <td>CAD</td>\n",
       "      <td>100kg</td>\n",
       "      <td>Carcass</td>\n",
       "      <td>2.7%</td>\n",
       "    </tr>\n",
       "    <tr>\n",
       "      <th>17</th>\n",
       "      <td>Chile</td>\n",
       "      <td>31 Jul</td>\n",
       "      <td>1280</td>\n",
       "      <td>CLP</td>\n",
       "      <td>kg</td>\n",
       "      <td>Live</td>\n",
       "      <td>0%</td>\n",
       "    </tr>\n",
       "    <tr>\n",
       "      <th>18</th>\n",
       "      <td>Colombia</td>\n",
       "      <td>31 Jul</td>\n",
       "      <td>5465</td>\n",
       "      <td>COP</td>\n",
       "      <td>kg</td>\n",
       "      <td>Live</td>\n",
       "      <td>1.4%</td>\n",
       "    </tr>\n",
       "    <tr>\n",
       "      <th>19</th>\n",
       "      <td>Mexico - Sonora</td>\n",
       "      <td>31 Jul</td>\n",
       "      <td>25.40</td>\n",
       "      <td>MXN</td>\n",
       "      <td>kg</td>\n",
       "      <td>Live</td>\n",
       "      <td>4.2%</td>\n",
       "    </tr>\n",
       "    <tr>\n",
       "      <th>20</th>\n",
       "      <td>USA - Iowa/Minnesota</td>\n",
       "      <td>31 Jul</td>\n",
       "      <td>40.94</td>\n",
       "      <td>USD</td>\n",
       "      <td>cwt</td>\n",
       "      <td>Carcass</td>\n",
       "      <td>0.7%</td>\n",
       "    </tr>\n",
       "    <tr>\n",
       "      <th>21</th>\n",
       "      <td>China</td>\n",
       "      <td>22 Jul</td>\n",
       "      <td>36.81</td>\n",
       "      <td>CNY</td>\n",
       "      <td>kg</td>\n",
       "      <td>Live</td>\n",
       "      <td>0.1%</td>\n",
       "    </tr>\n",
       "    <tr>\n",
       "      <th>22</th>\n",
       "      <td>South Korea</td>\n",
       "      <td>31 Jul</td>\n",
       "      <td>4138</td>\n",
       "      <td>KRW</td>\n",
       "      <td>kg</td>\n",
       "      <td>Carcass</td>\n",
       "      <td>7.5%</td>\n",
       "    </tr>\n",
       "  </tbody>\n",
       "</table>\n",
       "</div>"
      ],
      "text/plain": [
       "                        pais    data   preco moeda unidade       referencia  \\\n",
       "0            Belgium - Danis  30 Jul   0.960   EUR      kg             Live   \n",
       "1                    Denmark  30 Jul   10.50   DKK      kg      Carcass 60%   \n",
       "2               France - MPB   3 Aug   1.293   EUR      kg   Carcass 56 TMV   \n",
       "3                    Germany  29 Jul   1.470   EUR      kg      Carcass 57%   \n",
       "4                      Italy  30 Jul   1.275   EUR      kg  160/176 kg Live   \n",
       "5   Netherlands - Beursprijs  31 Jul   1.050   EUR      kg             Live   \n",
       "6                     Poland  24 Jul   6.261   PLN      kg      Carcass 57%   \n",
       "7                    Romania  24 Jul  536.79   RON   100kg             Live   \n",
       "8                     Russia  22 Jul  120.40   RUB      kg             Live   \n",
       "9             Spain - Lleida  30 Jul   1.300   EUR      kg             Live   \n",
       "10            United Kingdom  25 Jul  165.18   GBX      kg    SPP Euro Spec   \n",
       "11                   Ukraine   3 Jul   43.60   UAH      kg             Live   \n",
       "12                 Argentine  24 Jul   60.51   ARS      kg             Live   \n",
       "13           Brazil - Paraná  27 Jul   6.050   BRL      kg             Live   \n",
       "14   Brazil - Santa Catarina  30 Jul   6.340   BRL      kg             Live   \n",
       "15          Canada - Ontario  24 Jul  119.70   CAD   100kg          Carcass   \n",
       "16           Canada - Quebec  24 Jul  157.35   CAD   100kg          Carcass   \n",
       "17                     Chile  31 Jul    1280   CLP      kg             Live   \n",
       "18                  Colombia  31 Jul    5465   COP      kg             Live   \n",
       "19           Mexico - Sonora  31 Jul   25.40   MXN      kg             Live   \n",
       "20      USA - Iowa/Minnesota  31 Jul   40.94   USD     cwt          Carcass   \n",
       "21                     China  22 Jul   36.81   CNY      kg             Live   \n",
       "22               South Korea  31 Jul    4138   KRW      kg          Carcass   \n",
       "\n",
       "   variacao  \n",
       "0      2.1%  \n",
       "1        0%  \n",
       "2        0%  \n",
       "3        0%  \n",
       "4      3.2%  \n",
       "5        0%  \n",
       "6      6.6%  \n",
       "7      2.0%  \n",
       "8      2.6%  \n",
       "9        0%  \n",
       "10     0.3%  \n",
       "11     2.1%  \n",
       "12     3.0%  \n",
       "13    16.3%  \n",
       "14     2.6%  \n",
       "15     4.3%  \n",
       "16     2.7%  \n",
       "17       0%  \n",
       "18     1.4%  \n",
       "19     4.2%  \n",
       "20     0.7%  \n",
       "21     0.1%  \n",
       "22     7.5%  "
      ]
     },
     "execution_count": 4,
     "metadata": {},
     "output_type": "execute_result"
    }
   ],
   "source": [
    "for item in listings:\n",
    "    market = {}\n",
    "\n",
    "    market['pais'] = item.find('a', {'class': 'titol'}).getText()\n",
    "    market['data'] = item.select('.col-titol > span.data')[0].getText()\n",
    "    market['preco'] = item.find('span', {'class': 'preu'}).getText()\n",
    "    market['moeda'] = item.find('span', {'class': 'moneda'}).getText()\n",
    "    market['unidade'] = item.find('span', {'class': 'unitats'}).getText()\n",
    "    market['referencia'] = item.find('span', {'class': 'data fs9'}).getText()\n",
    "    market['variacao'] = item.find('span', {'class': 'perc'}).getText()\n",
    "\n",
    "    markets.append(market)\n",
    "  \n",
    "\n",
    "pricing = pd.DataFrame(markets)\n",
    "pricing"
   ]
  },
  {
   "cell_type": "code",
   "execution_count": 5,
   "metadata": {},
   "outputs": [],
   "source": [
    "##4.1 exporting prices for swine into a CSV file"
   ]
  },
  {
   "cell_type": "code",
   "execution_count": 6,
   "metadata": {},
   "outputs": [],
   "source": [
    "import datetime\n",
    "\n",
    "current_date = datetime.datetime.now()\n",
    "filename = str(current_date.day)+str(current_date.month)+str(current_date.year)\n",
    "pricing.to_csv(str('/Users/lstorino/PythonTests/scrapping/Pig333/data/pricetoday'+filename+ '.csv'))\n",
    "#pricing.to_csv('/Users/lstorino/PythonTests/scrapping/Pig333/data/pricetoday.csv')"
   ]
  },
  {
   "cell_type": "markdown",
   "metadata": {},
   "source": [
    "5. Create Unit equalizing column"
   ]
  },
  {
   "cell_type": "code",
   "execution_count": 7,
   "metadata": {},
   "outputs": [
    {
     "data": {
      "text/plain": [
       "pandas.core.series.Series"
      ]
     },
     "execution_count": 7,
     "metadata": {},
     "output_type": "execute_result"
    }
   ],
   "source": [
    "type(pricing.preco)"
   ]
  },
  {
   "cell_type": "code",
   "execution_count": 8,
   "metadata": {},
   "outputs": [
    {
     "ename": "ValueError",
     "evalue": "time data '30 Jul' does not match format '%d/%m/%Y' (match)",
     "output_type": "error",
     "traceback": [
      "\u001b[0;31m---------------------------------------------------------------------------\u001b[0m",
      "\u001b[0;31mTypeError\u001b[0m                                 Traceback (most recent call last)",
      "\u001b[0;32m~/opt/anaconda3/lib/python3.7/site-packages/pandas/core/tools/datetimes.py\u001b[0m in \u001b[0;36m_convert_listlike_datetimes\u001b[0;34m(arg, format, name, tz, unit, errors, infer_datetime_format, dayfirst, yearfirst, exact)\u001b[0m\n\u001b[1;32m    431\u001b[0m             \u001b[0;32mtry\u001b[0m\u001b[0;34m:\u001b[0m\u001b[0;34m\u001b[0m\u001b[0;34m\u001b[0m\u001b[0m\n\u001b[0;32m--> 432\u001b[0;31m                 \u001b[0mvalues\u001b[0m\u001b[0;34m,\u001b[0m \u001b[0mtz\u001b[0m \u001b[0;34m=\u001b[0m \u001b[0mconversion\u001b[0m\u001b[0;34m.\u001b[0m\u001b[0mdatetime_to_datetime64\u001b[0m\u001b[0;34m(\u001b[0m\u001b[0marg\u001b[0m\u001b[0;34m)\u001b[0m\u001b[0;34m\u001b[0m\u001b[0;34m\u001b[0m\u001b[0m\n\u001b[0m\u001b[1;32m    433\u001b[0m                 \u001b[0;32mreturn\u001b[0m \u001b[0mDatetimeIndex\u001b[0m\u001b[0;34m.\u001b[0m\u001b[0m_simple_new\u001b[0m\u001b[0;34m(\u001b[0m\u001b[0mvalues\u001b[0m\u001b[0;34m,\u001b[0m \u001b[0mname\u001b[0m\u001b[0;34m=\u001b[0m\u001b[0mname\u001b[0m\u001b[0;34m,\u001b[0m \u001b[0mtz\u001b[0m\u001b[0;34m=\u001b[0m\u001b[0mtz\u001b[0m\u001b[0;34m)\u001b[0m\u001b[0;34m\u001b[0m\u001b[0;34m\u001b[0m\u001b[0m\n",
      "\u001b[0;32mpandas/_libs/tslibs/conversion.pyx\u001b[0m in \u001b[0;36mpandas._libs.tslibs.conversion.datetime_to_datetime64\u001b[0;34m()\u001b[0m\n",
      "\u001b[0;31mTypeError\u001b[0m: Unrecognized value type: <class 'str'>",
      "\nDuring handling of the above exception, another exception occurred:\n",
      "\u001b[0;31mValueError\u001b[0m                                Traceback (most recent call last)",
      "\u001b[0;32m<ipython-input-8-66c3cda64049>\u001b[0m in \u001b[0;36m<module>\u001b[0;34m\u001b[0m\n\u001b[0;32m----> 1\u001b[0;31m \u001b[0mpricing\u001b[0m\u001b[0;34m[\u001b[0m\u001b[0;34m'data'\u001b[0m\u001b[0;34m]\u001b[0m \u001b[0;34m=\u001b[0m \u001b[0mpd\u001b[0m\u001b[0;34m.\u001b[0m\u001b[0mto_datetime\u001b[0m\u001b[0;34m(\u001b[0m\u001b[0mpricing\u001b[0m\u001b[0;34m[\u001b[0m\u001b[0;34m'data'\u001b[0m\u001b[0;34m]\u001b[0m\u001b[0;34m,\u001b[0m \u001b[0mformat\u001b[0m\u001b[0;34m=\u001b[0m\u001b[0;34m'%d/%m/%Y'\u001b[0m\u001b[0;34m)\u001b[0m\u001b[0;34m\u001b[0m\u001b[0;34m\u001b[0m\u001b[0m\n\u001b[0m",
      "\u001b[0;32m~/opt/anaconda3/lib/python3.7/site-packages/pandas/core/tools/datetimes.py\u001b[0m in \u001b[0;36mto_datetime\u001b[0;34m(arg, errors, dayfirst, yearfirst, utc, format, exact, unit, infer_datetime_format, origin, cache)\u001b[0m\n\u001b[1;32m    726\u001b[0m             \u001b[0mresult\u001b[0m \u001b[0;34m=\u001b[0m \u001b[0marg\u001b[0m\u001b[0;34m.\u001b[0m\u001b[0mmap\u001b[0m\u001b[0;34m(\u001b[0m\u001b[0mcache_array\u001b[0m\u001b[0;34m)\u001b[0m\u001b[0;34m\u001b[0m\u001b[0;34m\u001b[0m\u001b[0m\n\u001b[1;32m    727\u001b[0m         \u001b[0;32melse\u001b[0m\u001b[0;34m:\u001b[0m\u001b[0;34m\u001b[0m\u001b[0;34m\u001b[0m\u001b[0m\n\u001b[0;32m--> 728\u001b[0;31m             \u001b[0mvalues\u001b[0m \u001b[0;34m=\u001b[0m \u001b[0mconvert_listlike\u001b[0m\u001b[0;34m(\u001b[0m\u001b[0marg\u001b[0m\u001b[0;34m.\u001b[0m\u001b[0m_values\u001b[0m\u001b[0;34m,\u001b[0m \u001b[0mformat\u001b[0m\u001b[0;34m)\u001b[0m\u001b[0;34m\u001b[0m\u001b[0;34m\u001b[0m\u001b[0m\n\u001b[0m\u001b[1;32m    729\u001b[0m             \u001b[0mresult\u001b[0m \u001b[0;34m=\u001b[0m \u001b[0marg\u001b[0m\u001b[0;34m.\u001b[0m\u001b[0m_constructor\u001b[0m\u001b[0;34m(\u001b[0m\u001b[0mvalues\u001b[0m\u001b[0;34m,\u001b[0m \u001b[0mindex\u001b[0m\u001b[0;34m=\u001b[0m\u001b[0marg\u001b[0m\u001b[0;34m.\u001b[0m\u001b[0mindex\u001b[0m\u001b[0;34m,\u001b[0m \u001b[0mname\u001b[0m\u001b[0;34m=\u001b[0m\u001b[0marg\u001b[0m\u001b[0;34m.\u001b[0m\u001b[0mname\u001b[0m\u001b[0;34m)\u001b[0m\u001b[0;34m\u001b[0m\u001b[0;34m\u001b[0m\u001b[0m\n\u001b[1;32m    730\u001b[0m     \u001b[0;32melif\u001b[0m \u001b[0misinstance\u001b[0m\u001b[0;34m(\u001b[0m\u001b[0marg\u001b[0m\u001b[0;34m,\u001b[0m \u001b[0;34m(\u001b[0m\u001b[0mABCDataFrame\u001b[0m\u001b[0;34m,\u001b[0m \u001b[0mabc\u001b[0m\u001b[0;34m.\u001b[0m\u001b[0mMutableMapping\u001b[0m\u001b[0;34m)\u001b[0m\u001b[0;34m)\u001b[0m\u001b[0;34m:\u001b[0m\u001b[0;34m\u001b[0m\u001b[0;34m\u001b[0m\u001b[0m\n",
      "\u001b[0;32m~/opt/anaconda3/lib/python3.7/site-packages/pandas/core/tools/datetimes.py\u001b[0m in \u001b[0;36m_convert_listlike_datetimes\u001b[0;34m(arg, format, name, tz, unit, errors, infer_datetime_format, dayfirst, yearfirst, exact)\u001b[0m\n\u001b[1;32m    433\u001b[0m                 \u001b[0;32mreturn\u001b[0m \u001b[0mDatetimeIndex\u001b[0m\u001b[0;34m.\u001b[0m\u001b[0m_simple_new\u001b[0m\u001b[0;34m(\u001b[0m\u001b[0mvalues\u001b[0m\u001b[0;34m,\u001b[0m \u001b[0mname\u001b[0m\u001b[0;34m=\u001b[0m\u001b[0mname\u001b[0m\u001b[0;34m,\u001b[0m \u001b[0mtz\u001b[0m\u001b[0;34m=\u001b[0m\u001b[0mtz\u001b[0m\u001b[0;34m)\u001b[0m\u001b[0;34m\u001b[0m\u001b[0;34m\u001b[0m\u001b[0m\n\u001b[1;32m    434\u001b[0m             \u001b[0;32mexcept\u001b[0m \u001b[0;34m(\u001b[0m\u001b[0mValueError\u001b[0m\u001b[0;34m,\u001b[0m \u001b[0mTypeError\u001b[0m\u001b[0;34m)\u001b[0m\u001b[0;34m:\u001b[0m\u001b[0;34m\u001b[0m\u001b[0;34m\u001b[0m\u001b[0m\n\u001b[0;32m--> 435\u001b[0;31m                 \u001b[0;32mraise\u001b[0m \u001b[0me\u001b[0m\u001b[0;34m\u001b[0m\u001b[0;34m\u001b[0m\u001b[0m\n\u001b[0m\u001b[1;32m    436\u001b[0m \u001b[0;34m\u001b[0m\u001b[0m\n\u001b[1;32m    437\u001b[0m     \u001b[0;32mif\u001b[0m \u001b[0mresult\u001b[0m \u001b[0;32mis\u001b[0m \u001b[0;32mNone\u001b[0m\u001b[0;34m:\u001b[0m\u001b[0;34m\u001b[0m\u001b[0;34m\u001b[0m\u001b[0m\n",
      "\u001b[0;32m~/opt/anaconda3/lib/python3.7/site-packages/pandas/core/tools/datetimes.py\u001b[0m in \u001b[0;36m_convert_listlike_datetimes\u001b[0;34m(arg, format, name, tz, unit, errors, infer_datetime_format, dayfirst, yearfirst, exact)\u001b[0m\n\u001b[1;32m    398\u001b[0m                 \u001b[0;32mtry\u001b[0m\u001b[0;34m:\u001b[0m\u001b[0;34m\u001b[0m\u001b[0;34m\u001b[0m\u001b[0m\n\u001b[1;32m    399\u001b[0m                     result, timezones = array_strptime(\n\u001b[0;32m--> 400\u001b[0;31m                         \u001b[0marg\u001b[0m\u001b[0;34m,\u001b[0m \u001b[0mformat\u001b[0m\u001b[0;34m,\u001b[0m \u001b[0mexact\u001b[0m\u001b[0;34m=\u001b[0m\u001b[0mexact\u001b[0m\u001b[0;34m,\u001b[0m \u001b[0merrors\u001b[0m\u001b[0;34m=\u001b[0m\u001b[0merrors\u001b[0m\u001b[0;34m\u001b[0m\u001b[0;34m\u001b[0m\u001b[0m\n\u001b[0m\u001b[1;32m    401\u001b[0m                     )\n\u001b[1;32m    402\u001b[0m                     \u001b[0;32mif\u001b[0m \u001b[0;34m\"%Z\"\u001b[0m \u001b[0;32min\u001b[0m \u001b[0mformat\u001b[0m \u001b[0;32mor\u001b[0m \u001b[0;34m\"%z\"\u001b[0m \u001b[0;32min\u001b[0m \u001b[0mformat\u001b[0m\u001b[0;34m:\u001b[0m\u001b[0;34m\u001b[0m\u001b[0;34m\u001b[0m\u001b[0m\n",
      "\u001b[0;32mpandas/_libs/tslibs/strptime.pyx\u001b[0m in \u001b[0;36mpandas._libs.tslibs.strptime.array_strptime\u001b[0;34m()\u001b[0m\n",
      "\u001b[0;31mValueError\u001b[0m: time data '30 Jul' does not match format '%d/%m/%Y' (match)"
     ]
    }
   ],
   "source": [
    "pricing['data'] = pd.to_datetime(pricing['data'], format='%d/%m/%Y')"
   ]
  },
  {
   "cell_type": "code",
   "execution_count": null,
   "metadata": {},
   "outputs": [],
   "source": []
  },
  {
   "cell_type": "code",
   "execution_count": null,
   "metadata": {},
   "outputs": [],
   "source": [
    "pricing['carcaça'] = pricing['unidade'].apply(lambda x: 'kg' if ['preco']*100 else '['preco']*1')\n",
    "    "
   ]
  },
  {
   "cell_type": "code",
   "execution_count": null,
   "metadata": {},
   "outputs": [],
   "source": []
  },
  {
   "cell_type": "code",
   "execution_count": null,
   "metadata": {},
   "outputs": [],
   "source": []
  },
  {
   "cell_type": "markdown",
   "metadata": {},
   "source": [
    "6. Creat Currency equalizing column"
   ]
  },
  {
   "cell_type": "code",
   "execution_count": null,
   "metadata": {},
   "outputs": [],
   "source": []
  },
  {
   "cell_type": "code",
   "execution_count": null,
   "metadata": {},
   "outputs": [],
   "source": []
  },
  {
   "cell_type": "markdown",
   "metadata": {},
   "source": [
    "7. Plot histogram of most competitive markets"
   ]
  },
  {
   "cell_type": "code",
   "execution_count": null,
   "metadata": {},
   "outputs": [],
   "source": []
  },
  {
   "cell_type": "code",
   "execution_count": null,
   "metadata": {},
   "outputs": [],
   "source": []
  },
  {
   "cell_type": "markdown",
   "metadata": {},
   "source": [
    "8. Export to CSV file for further temporal analisys"
   ]
  },
  {
   "cell_type": "code",
   "execution_count": null,
   "metadata": {},
   "outputs": [],
   "source": []
  },
  {
   "cell_type": "code",
   "execution_count": null,
   "metadata": {},
   "outputs": [],
   "source": []
  }
 ],
 "metadata": {
  "colab": {
   "name": "Untitled12.ipynb",
   "provenance": [],
   "version": "0.3.2"
  },
  "kernelspec": {
   "display_name": "Python 3",
   "language": "python",
   "name": "python3"
  },
  "language_info": {
   "codemirror_mode": {
    "name": "ipython",
    "version": 3
   },
   "file_extension": ".py",
   "mimetype": "text/x-python",
   "name": "python",
   "nbconvert_exporter": "python",
   "pygments_lexer": "ipython3",
   "version": "3.7.6"
  }
 },
 "nbformat": 4,
 "nbformat_minor": 1
}
