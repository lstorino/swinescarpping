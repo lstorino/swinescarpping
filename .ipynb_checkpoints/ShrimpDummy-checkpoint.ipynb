{
 "cells": [
  {
   "cell_type": "code",
   "execution_count": 18,
   "metadata": {},
   "outputs": [
    {
     "name": "stdout",
     "output_type": "stream",
     "text": [
      "BeautifulSoup -> 4.8.2\n",
      "urllib -> 3.7\n",
      "pandas -> 1.0.1\n"
     ]
    }
   ],
   "source": [
    "import bs4\n",
    "import urllib.request as urllib_request\n",
    "import pandas\n",
    "\n",
    "print(\"BeautifulSoup ->\", bs4.__version__)\n",
    "print(\"urllib ->\", urllib_request.__version__)\n",
    "print(\"pandas ->\", pandas.__version__)"
   ]
  },
  {
   "cell_type": "code",
   "execution_count": 67,
   "metadata": {},
   "outputs": [
    {
     "name": "stdout",
     "output_type": "stream",
     "text": [
      "Tôm sú loại 20 con tại ao\n",
      "205.000\n",
      "205.000\n",
      "\n"
     ]
    }
   ],
   "source": [
    "from urllib.request import urlopen\n",
    "from bs4 import BeautifulSoup\n",
    "\n",
    "url = 'https://tepbac.com/gia-thuy-san/cat/2-thuy-san/'\n",
    "\n",
    "response = urlopen(url)\n",
    "html = response.read()\n",
    "\n",
    "soup = BeautifulSoup(html, 'html.parser')\n",
    "\n",
    "print(soup.find('a', class_=\"h6\").get_text())\n",
    "print(soup.find('td', class_=\"text-right text-danger font-weight-bold\").get_text())\n",
    "print(soup.find('td', class_=\"text-right\").get_text())\n",
    "print(soup.find('td', class_=\"text-truncate\").get_text())\n",
    "\n"
   ]
  },
  {
   "cell_type": "code",
   "execution_count": null,
   "metadata": {},
   "outputs": [],
   "source": []
  },
  {
   "cell_type": "code",
   "execution_count": null,
   "metadata": {},
   "outputs": [],
   "source": []
  }
 ],
 "metadata": {
  "kernelspec": {
   "display_name": "Python 3",
   "language": "python",
   "name": "python3"
  },
  "language_info": {
   "codemirror_mode": {
    "name": "ipython",
    "version": 3
   },
   "file_extension": ".py",
   "mimetype": "text/x-python",
   "name": "python",
   "nbconvert_exporter": "python",
   "pygments_lexer": "ipython3",
   "version": "3.7.6"
  }
 },
 "nbformat": 4,
 "nbformat_minor": 4
}
