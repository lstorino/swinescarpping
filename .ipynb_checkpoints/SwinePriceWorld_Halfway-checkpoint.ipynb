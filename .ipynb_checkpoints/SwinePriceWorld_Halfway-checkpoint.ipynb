{
 "cells": [
  {
   "cell_type": "markdown",
   "metadata": {},
   "source": [
    "1.Scrapping data from wbesite"
   ]
  },
  {
   "cell_type": "markdown",
   "metadata": {},
   "source": [
    "1. Importing libraries essetial to scrapping"
   ]
  },
  {
   "cell_type": "code",
   "execution_count": 4,
   "metadata": {},
   "outputs": [],
   "source": [
    "import requests\n",
    "from bs4 import BeautifulSoup\n",
    "import pandas as pd"
   ]
  },
  {
   "cell_type": "markdown",
   "metadata": {},
   "source": [
    "2. Pointing url to fetch data from"
   ]
  },
  {
   "cell_type": "code",
   "execution_count": 5,
   "metadata": {},
   "outputs": [],
   "source": [
    "url = 'https://www.pig333.com/markets_and_prices/'\n",
    "response = requests.get(url)\n",
    "\n",
    "soup = BeautifulSoup(response.text, \"html.parser\")"
   ]
  },
  {
   "cell_type": "markdown",
   "metadata": {},
   "source": [
    "3. Locating tags where the data in relevant fetching into a dataframe"
   ]
  },
  {
   "cell_type": "code",
   "execution_count": 6,
   "metadata": {},
   "outputs": [],
   "source": [
    "markets = []\n",
    "listings = soup.find('div', {'class': 'contingut'}).find_all('div', {'class': 'preu_mercat'})"
   ]
  },
  {
   "cell_type": "markdown",
   "metadata": {},
   "source": [
    "4. Fetching data from located tags in the HTML into a proper dataframe."
   ]
  },
  {
   "cell_type": "code",
   "execution_count": 7,
   "metadata": {},
   "outputs": [
    {
     "data": {
      "text/html": [
       "<div>\n",
       "<style scoped>\n",
       "    .dataframe tbody tr th:only-of-type {\n",
       "        vertical-align: middle;\n",
       "    }\n",
       "\n",
       "    .dataframe tbody tr th {\n",
       "        vertical-align: top;\n",
       "    }\n",
       "\n",
       "    .dataframe thead th {\n",
       "        text-align: right;\n",
       "    }\n",
       "</style>\n",
       "<table border=\"1\" class=\"dataframe\">\n",
       "  <thead>\n",
       "    <tr style=\"text-align: right;\">\n",
       "      <th></th>\n",
       "      <th>pais</th>\n",
       "      <th>data</th>\n",
       "      <th>preco</th>\n",
       "      <th>moeda</th>\n",
       "      <th>unidade</th>\n",
       "      <th>referencia</th>\n",
       "      <th>variacao</th>\n",
       "    </tr>\n",
       "  </thead>\n",
       "  <tbody>\n",
       "    <tr>\n",
       "      <th>0</th>\n",
       "      <td>Belgium - Danis</td>\n",
       "      <td>30 Jul</td>\n",
       "      <td>0.960</td>\n",
       "      <td>EUR</td>\n",
       "      <td>kg</td>\n",
       "      <td>Live</td>\n",
       "      <td>2.1%</td>\n",
       "    </tr>\n",
       "    <tr>\n",
       "      <th>1</th>\n",
       "      <td>Denmark</td>\n",
       "      <td>30 Jul</td>\n",
       "      <td>10.50</td>\n",
       "      <td>DKK</td>\n",
       "      <td>kg</td>\n",
       "      <td>Carcass 60%</td>\n",
       "      <td>0%</td>\n",
       "    </tr>\n",
       "    <tr>\n",
       "      <th>2</th>\n",
       "      <td>France - MPB</td>\n",
       "      <td>3 Aug</td>\n",
       "      <td>1.293</td>\n",
       "      <td>EUR</td>\n",
       "      <td>kg</td>\n",
       "      <td>Carcass 56 TMV</td>\n",
       "      <td>0%</td>\n",
       "    </tr>\n",
       "    <tr>\n",
       "      <th>3</th>\n",
       "      <td>Germany</td>\n",
       "      <td>29 Jul</td>\n",
       "      <td>1.470</td>\n",
       "      <td>EUR</td>\n",
       "      <td>kg</td>\n",
       "      <td>Carcass 57%</td>\n",
       "      <td>0%</td>\n",
       "    </tr>\n",
       "    <tr>\n",
       "      <th>4</th>\n",
       "      <td>Italy</td>\n",
       "      <td>30 Jul</td>\n",
       "      <td>1.275</td>\n",
       "      <td>EUR</td>\n",
       "      <td>kg</td>\n",
       "      <td>160/176 kg Live</td>\n",
       "      <td>3.2%</td>\n",
       "    </tr>\n",
       "    <tr>\n",
       "      <th>5</th>\n",
       "      <td>Netherlands - Beursprijs</td>\n",
       "      <td>31 Jul</td>\n",
       "      <td>1.050</td>\n",
       "      <td>EUR</td>\n",
       "      <td>kg</td>\n",
       "      <td>Live</td>\n",
       "      <td>0%</td>\n",
       "    </tr>\n",
       "    <tr>\n",
       "      <th>6</th>\n",
       "      <td>Poland</td>\n",
       "      <td>24 Jul</td>\n",
       "      <td>6.261</td>\n",
       "      <td>PLN</td>\n",
       "      <td>kg</td>\n",
       "      <td>Carcass 57%</td>\n",
       "      <td>6.6%</td>\n",
       "    </tr>\n",
       "    <tr>\n",
       "      <th>7</th>\n",
       "      <td>Romania</td>\n",
       "      <td>24 Jul</td>\n",
       "      <td>536.79</td>\n",
       "      <td>RON</td>\n",
       "      <td>100kg</td>\n",
       "      <td>Live</td>\n",
       "      <td>2.0%</td>\n",
       "    </tr>\n",
       "    <tr>\n",
       "      <th>8</th>\n",
       "      <td>Russia</td>\n",
       "      <td>22 Jul</td>\n",
       "      <td>120.40</td>\n",
       "      <td>RUB</td>\n",
       "      <td>kg</td>\n",
       "      <td>Live</td>\n",
       "      <td>2.6%</td>\n",
       "    </tr>\n",
       "    <tr>\n",
       "      <th>9</th>\n",
       "      <td>Spain - Lleida</td>\n",
       "      <td>30 Jul</td>\n",
       "      <td>1.300</td>\n",
       "      <td>EUR</td>\n",
       "      <td>kg</td>\n",
       "      <td>Live</td>\n",
       "      <td>0%</td>\n",
       "    </tr>\n",
       "    <tr>\n",
       "      <th>10</th>\n",
       "      <td>United Kingdom</td>\n",
       "      <td>25 Jul</td>\n",
       "      <td>165.18</td>\n",
       "      <td>GBX</td>\n",
       "      <td>kg</td>\n",
       "      <td>SPP Euro Spec</td>\n",
       "      <td>0.3%</td>\n",
       "    </tr>\n",
       "    <tr>\n",
       "      <th>11</th>\n",
       "      <td>Ukraine</td>\n",
       "      <td>3 Jul</td>\n",
       "      <td>43.60</td>\n",
       "      <td>UAH</td>\n",
       "      <td>kg</td>\n",
       "      <td>Live</td>\n",
       "      <td>2.1%</td>\n",
       "    </tr>\n",
       "    <tr>\n",
       "      <th>12</th>\n",
       "      <td>Argentine</td>\n",
       "      <td>24 Jul</td>\n",
       "      <td>60.51</td>\n",
       "      <td>ARS</td>\n",
       "      <td>kg</td>\n",
       "      <td>Live</td>\n",
       "      <td>3.0%</td>\n",
       "    </tr>\n",
       "    <tr>\n",
       "      <th>13</th>\n",
       "      <td>Brazil - Paraná</td>\n",
       "      <td>27 Jul</td>\n",
       "      <td>6.050</td>\n",
       "      <td>BRL</td>\n",
       "      <td>kg</td>\n",
       "      <td>Live</td>\n",
       "      <td>16.3%</td>\n",
       "    </tr>\n",
       "    <tr>\n",
       "      <th>14</th>\n",
       "      <td>Brazil - Santa Catarina</td>\n",
       "      <td>30 Jul</td>\n",
       "      <td>6.340</td>\n",
       "      <td>BRL</td>\n",
       "      <td>kg</td>\n",
       "      <td>Live</td>\n",
       "      <td>2.6%</td>\n",
       "    </tr>\n",
       "    <tr>\n",
       "      <th>15</th>\n",
       "      <td>Canada - Ontario</td>\n",
       "      <td>24 Jul</td>\n",
       "      <td>119.70</td>\n",
       "      <td>CAD</td>\n",
       "      <td>100kg</td>\n",
       "      <td>Carcass</td>\n",
       "      <td>4.3%</td>\n",
       "    </tr>\n",
       "    <tr>\n",
       "      <th>16</th>\n",
       "      <td>Canada - Quebec</td>\n",
       "      <td>24 Jul</td>\n",
       "      <td>157.35</td>\n",
       "      <td>CAD</td>\n",
       "      <td>100kg</td>\n",
       "      <td>Carcass</td>\n",
       "      <td>2.7%</td>\n",
       "    </tr>\n",
       "    <tr>\n",
       "      <th>17</th>\n",
       "      <td>Chile</td>\n",
       "      <td>31 Jul</td>\n",
       "      <td>1280</td>\n",
       "      <td>CLP</td>\n",
       "      <td>kg</td>\n",
       "      <td>Live</td>\n",
       "      <td>0%</td>\n",
       "    </tr>\n",
       "    <tr>\n",
       "      <th>18</th>\n",
       "      <td>Colombia</td>\n",
       "      <td>31 Jul</td>\n",
       "      <td>5465</td>\n",
       "      <td>COP</td>\n",
       "      <td>kg</td>\n",
       "      <td>Live</td>\n",
       "      <td>1.4%</td>\n",
       "    </tr>\n",
       "    <tr>\n",
       "      <th>19</th>\n",
       "      <td>Mexico - Sonora</td>\n",
       "      <td>31 Jul</td>\n",
       "      <td>25.40</td>\n",
       "      <td>MXN</td>\n",
       "      <td>kg</td>\n",
       "      <td>Live</td>\n",
       "      <td>4.2%</td>\n",
       "    </tr>\n",
       "    <tr>\n",
       "      <th>20</th>\n",
       "      <td>USA - Iowa/Minnesota</td>\n",
       "      <td>31 Jul</td>\n",
       "      <td>40.94</td>\n",
       "      <td>USD</td>\n",
       "      <td>cwt</td>\n",
       "      <td>Carcass</td>\n",
       "      <td>0.7%</td>\n",
       "    </tr>\n",
       "    <tr>\n",
       "      <th>21</th>\n",
       "      <td>China</td>\n",
       "      <td>22 Jul</td>\n",
       "      <td>36.81</td>\n",
       "      <td>CNY</td>\n",
       "      <td>kg</td>\n",
       "      <td>Live</td>\n",
       "      <td>0.1%</td>\n",
       "    </tr>\n",
       "    <tr>\n",
       "      <th>22</th>\n",
       "      <td>South Korea</td>\n",
       "      <td>31 Jul</td>\n",
       "      <td>4138</td>\n",
       "      <td>KRW</td>\n",
       "      <td>kg</td>\n",
       "      <td>Carcass</td>\n",
       "      <td>7.5%</td>\n",
       "    </tr>\n",
       "  </tbody>\n",
       "</table>\n",
       "</div>"
      ],
      "text/plain": [
       "                        pais    data   preco moeda unidade       referencia  \\\n",
       "0            Belgium - Danis  30 Jul   0.960   EUR      kg             Live   \n",
       "1                    Denmark  30 Jul   10.50   DKK      kg      Carcass 60%   \n",
       "2               France - MPB   3 Aug   1.293   EUR      kg   Carcass 56 TMV   \n",
       "3                    Germany  29 Jul   1.470   EUR      kg      Carcass 57%   \n",
       "4                      Italy  30 Jul   1.275   EUR      kg  160/176 kg Live   \n",
       "5   Netherlands - Beursprijs  31 Jul   1.050   EUR      kg             Live   \n",
       "6                     Poland  24 Jul   6.261   PLN      kg      Carcass 57%   \n",
       "7                    Romania  24 Jul  536.79   RON   100kg             Live   \n",
       "8                     Russia  22 Jul  120.40   RUB      kg             Live   \n",
       "9             Spain - Lleida  30 Jul   1.300   EUR      kg             Live   \n",
       "10            United Kingdom  25 Jul  165.18   GBX      kg    SPP Euro Spec   \n",
       "11                   Ukraine   3 Jul   43.60   UAH      kg             Live   \n",
       "12                 Argentine  24 Jul   60.51   ARS      kg             Live   \n",
       "13           Brazil - Paraná  27 Jul   6.050   BRL      kg             Live   \n",
       "14   Brazil - Santa Catarina  30 Jul   6.340   BRL      kg             Live   \n",
       "15          Canada - Ontario  24 Jul  119.70   CAD   100kg          Carcass   \n",
       "16           Canada - Quebec  24 Jul  157.35   CAD   100kg          Carcass   \n",
       "17                     Chile  31 Jul    1280   CLP      kg             Live   \n",
       "18                  Colombia  31 Jul    5465   COP      kg             Live   \n",
       "19           Mexico - Sonora  31 Jul   25.40   MXN      kg             Live   \n",
       "20      USA - Iowa/Minnesota  31 Jul   40.94   USD     cwt          Carcass   \n",
       "21                     China  22 Jul   36.81   CNY      kg             Live   \n",
       "22               South Korea  31 Jul    4138   KRW      kg          Carcass   \n",
       "\n",
       "   variacao  \n",
       "0      2.1%  \n",
       "1        0%  \n",
       "2        0%  \n",
       "3        0%  \n",
       "4      3.2%  \n",
       "5        0%  \n",
       "6      6.6%  \n",
       "7      2.0%  \n",
       "8      2.6%  \n",
       "9        0%  \n",
       "10     0.3%  \n",
       "11     2.1%  \n",
       "12     3.0%  \n",
       "13    16.3%  \n",
       "14     2.6%  \n",
       "15     4.3%  \n",
       "16     2.7%  \n",
       "17       0%  \n",
       "18     1.4%  \n",
       "19     4.2%  \n",
       "20     0.7%  \n",
       "21     0.1%  \n",
       "22     7.5%  "
      ]
     },
     "execution_count": 7,
     "metadata": {},
     "output_type": "execute_result"
    }
   ],
   "source": [
    "for item in listings:\n",
    "    market = {}\n",
    "\n",
    "    market['pais'] = item.find('a', {'class': 'titol'}).getText()\n",
    "    market['data'] = item.select('.col-titol > span.data')[0].getText()\n",
    "    market['preco'] = item.find('span', {'class': 'preu'}).getText()\n",
    "    market['moeda'] = item.find('span', {'class': 'moneda'}).getText()\n",
    "    market['unidade'] = item.find('span', {'class': 'unitats'}).getText()\n",
    "    market['referencia'] = item.find('span', {'class': 'data fs9'}).getText()\n",
    "    market['variacao'] = item.find('span', {'class': 'perc'}).getText()\n",
    "\n",
    "    markets.append(market)\n",
    "  \n",
    "\n",
    "pricing = pd.DataFrame(markets)\n",
    "pricing"
   ]
  },
  {
   "cell_type": "code",
   "execution_count": null,
   "metadata": {},
   "outputs": [],
   "source": [
    "##4.1 exporting prices for swine into a CSV file"
   ]
  },
  {
   "cell_type": "code",
   "execution_count": null,
   "metadata": {},
   "outputs": [],
   "source": [
    "import datetime\n",
    "\n",
    "current_date = datetime.datetime.now()\n",
    "filename = str(current_date.day)+str(current_date.month)+str(current_date.year)\n",
    "pricing.to_csv(str('/Users/lstorino/PythonTests/scrapping/Pig333/data/pricetoday'+filename+ '.csv'))\n",
    "#pricing.to_csv('/Users/lstorino/PythonTests/scrapping/Pig333/data/pricetoday.csv')"
   ]
  },
  {
   "cell_type": "markdown",
   "metadata": {},
   "source": [
    "5. Create Unit equalizing column"
   ]
  },
  {
   "cell_type": "code",
   "execution_count": null,
   "metadata": {},
   "outputs": [],
   "source": []
  },
  {
   "cell_type": "code",
   "execution_count": null,
   "metadata": {},
   "outputs": [],
   "source": []
  },
  {
   "cell_type": "code",
   "execution_count": null,
   "metadata": {},
   "outputs": [],
   "source": []
  },
  {
   "cell_type": "code",
   "execution_count": null,
   "metadata": {},
   "outputs": [],
   "source": []
  },
  {
   "cell_type": "markdown",
   "metadata": {},
   "source": [
    "6. Creat Currency equalizing column"
   ]
  },
  {
   "cell_type": "markdown",
   "metadata": {},
   "source": [
    "6.1 Finding the currency conversions on a website online to keep the values always updated with FX figures"
   ]
  },
  {
   "cell_type": "code",
   "execution_count": 8,
   "metadata": {},
   "outputs": [
    {
     "name": "stdout",
     "output_type": "stream",
     "text": [
      "{'AED': 3.67295, 'AFN': 76.800005, 'ALL': 105, 'AMD': 481.616228, 'ANG': 1.795407, 'AOA': 582.75, 'ARS': 72.56657, 'AUD': 1.398826, 'AWG': 1.8002, 'AZN': 1.7025, 'BAM': 1.66211, 'BBD': 2, 'BDT': 84.770927, 'BGN': 1.66384, 'BHD': 0.377002, 'BIF': 1927, 'BMD': 1, 'BND': 1.376532, 'BOB': 6.916713, 'BRL': 5.322134, 'BSD': 1, 'BTC': 8.9295018e-05, 'BTN': 75.096246, 'BWP': 11.712437, 'BYN': 2.448427, 'BZD': 2.016206, 'CAD': 1.336966, 'CDF': 1989, 'CHF': 0.915916, 'CLF': 0.027596, 'CLP': 764.3, 'CNH': 6.983251, 'CNY': 6.976, 'COP': 3771.787483, 'CRC': 585.155584, 'CUC': 1, 'CUP': 25.75, 'CVE': 94.37, 'CZK': 22.247517, 'DJF': 178, 'DKK': 6.335824, 'DOP': 58.63, 'DZD': 128.68, 'EGP': 15.9895, 'ERN': 15.002968, 'ETB': 35.3, 'EUR': 0.850543, 'FJD': 2.135, 'FKP': 0.766566, 'GBP': 0.766566, 'GEL': 3.085, 'GGP': 0.766566, 'GHS': 5.77, 'GIP': 0.766566, 'GMD': 51.87, 'GNF': 9615, 'GTQ': 7.711893, 'GYD': 209.226457, 'HKD': 7.75015, 'HNL': 24.9, 'HRK': 6.3546, 'HTG': 111.160216, 'HUF': 294.658906, 'IDR': 14587.276963, 'ILS': 3.41766, 'IMP': 0.766566, 'INR': 75.070452, 'IQD': 1190.5, 'IRR': 42105, 'ISK': 136.1, 'JEP': 0.766566, 'JMD': 147.81958, 'JOD': 0.709, 'JPY': 105.9237, 'KES': 107.875875, 'KGS': 76.698376, 'KHR': 4100, 'KMF': 418.650157, 'KPW': 900, 'KRW': 1195.305, 'KWD': 0.306031, 'KYD': 0.833514, 'KZT': 421.784042, 'LAK': 9071, 'LBP': 1514, 'LKR': 185.545762, 'LRD': 199.275036, 'LSL': 17.2, 'LYD': 1.38, 'MAD': 9.3485, 'MDL': 16.535854, 'MGA': 3800, 'MKD': 52.361875, 'MMK': 1361.318805, 'MNT': 2846.03934, 'MOP': 7.984448, 'MRO': 357, 'MRU': 37.6, 'MUR': 39.7, 'MVR': 15.4, 'MWK': 745, 'MXN': 22.786478, 'MYR': 4.2235, 'MZN': 70.900008, 'NAD': 17.2, 'NGN': 379.5, 'NIO': 34.5, 'NOK': 9.120244, 'NPR': 120.153613, 'NZD': 1.512711, 'OMR': 0.384999, 'PAB': 1, 'PEN': 3.5425, 'PGK': 3.485, 'PHP': 49.0805, 'PKR': 166.8, 'PLN': 3.741137, 'PYG': 6941.662468, 'QAR': 3.64075, 'RON': 4.11193, 'RSD': 99.945, 'RUB': 73.75365, 'RWF': 950, 'SAR': 3.750846, 'SBD': 8.232683, 'SCR': 17.82975, 'SDG': 55.3, 'SEK': 8.751159, 'SGD': 1.375701, 'SHP': 0.766566, 'SLL': 9804.638158, 'SOS': 583.5, 'SRD': 7.458, 'SSP': 130.26, 'STD': 21380.842964, 'STN': 20.9, 'SVC': 8.752332, 'SYP': 512.081043, 'SZL': 17.2, 'THB': 31.05875, 'TJS': 10.317537, 'TMT': 3.51, 'TND': 2.724, 'TOP': 2.281881, 'TRY': 6.97355, 'TTD': 6.764622, 'TWD': 29.4015, 'TZS': 2325, 'UAH': 27.786762, 'UGX': 3687.03784, 'USD': 1, 'UYU': 42.405341, 'UZS': 10195, 'VEF': 248487.642241, 'VES': 258740.322582, 'VND': 23205.60721, 'VUV': 114.026109, 'WST': 2.611482, 'XAF': 557.919406, 'XAG': 0.03958049, 'XAU': 0.00050206, 'XCD': 2.70255, 'XDR': 0.708831, 'XOF': 557.919406, 'XPD': 0.00047267, 'XPF': 101.496736, 'XPT': 0.00107355, 'YER': 250.350066, 'ZAR': 17.419601, 'ZMW': 18.263386, 'ZWL': 322}\n"
     ]
    }
   ],
   "source": [
    "api_url = \"https://openexchangerates.org/api/latest.json?app_id=84f0e7f007024e6aa0c5fc52f419b104\"\n",
    "r = requests.get(api_url)\n",
    "\n",
    "r.raise_for_status()\n",
    "result = r.json()\n",
    "rates = result['rates']\n",
    "print(rates)"
   ]
  },
  {
   "cell_type": "code",
   "execution_count": 49,
   "metadata": {},
   "outputs": [
    {
     "data": {
      "text/html": [
       "<div>\n",
       "<style scoped>\n",
       "    .dataframe tbody tr th:only-of-type {\n",
       "        vertical-align: middle;\n",
       "    }\n",
       "\n",
       "    .dataframe tbody tr th {\n",
       "        vertical-align: top;\n",
       "    }\n",
       "\n",
       "    .dataframe thead th {\n",
       "        text-align: right;\n",
       "    }\n",
       "</style>\n",
       "<table border=\"1\" class=\"dataframe\">\n",
       "  <thead>\n",
       "    <tr style=\"text-align: right;\">\n",
       "      <th></th>\n",
       "      <th>AED</th>\n",
       "      <th>AFN</th>\n",
       "      <th>ALL</th>\n",
       "      <th>AMD</th>\n",
       "      <th>ANG</th>\n",
       "      <th>AOA</th>\n",
       "      <th>ARS</th>\n",
       "      <th>AUD</th>\n",
       "      <th>AWG</th>\n",
       "      <th>AZN</th>\n",
       "      <th>...</th>\n",
       "      <th>XCD</th>\n",
       "      <th>XDR</th>\n",
       "      <th>XOF</th>\n",
       "      <th>XPD</th>\n",
       "      <th>XPF</th>\n",
       "      <th>XPT</th>\n",
       "      <th>YER</th>\n",
       "      <th>ZAR</th>\n",
       "      <th>ZMW</th>\n",
       "      <th>ZWL</th>\n",
       "    </tr>\n",
       "  </thead>\n",
       "  <tbody>\n",
       "    <tr>\n",
       "      <th>0</th>\n",
       "      <td>3.67295</td>\n",
       "      <td>76.800005</td>\n",
       "      <td>105</td>\n",
       "      <td>481.616228</td>\n",
       "      <td>1.795407</td>\n",
       "      <td>582.75</td>\n",
       "      <td>72.56657</td>\n",
       "      <td>1.398826</td>\n",
       "      <td>1.8002</td>\n",
       "      <td>1.7025</td>\n",
       "      <td>...</td>\n",
       "      <td>2.70255</td>\n",
       "      <td>0.708831</td>\n",
       "      <td>557.919406</td>\n",
       "      <td>0.000473</td>\n",
       "      <td>101.496736</td>\n",
       "      <td>0.001074</td>\n",
       "      <td>250.350066</td>\n",
       "      <td>17.419601</td>\n",
       "      <td>18.263386</td>\n",
       "      <td>322</td>\n",
       "    </tr>\n",
       "  </tbody>\n",
       "</table>\n",
       "<p>1 rows × 171 columns</p>\n",
       "</div>"
      ],
      "text/plain": [
       "       AED        AFN  ALL         AMD       ANG     AOA       ARS       AUD  \\\n",
       "0  3.67295  76.800005  105  481.616228  1.795407  582.75  72.56657  1.398826   \n",
       "\n",
       "      AWG     AZN  ...      XCD       XDR         XOF       XPD         XPF  \\\n",
       "0  1.8002  1.7025  ...  2.70255  0.708831  557.919406  0.000473  101.496736   \n",
       "\n",
       "        XPT         YER        ZAR        ZMW  ZWL  \n",
       "0  0.001074  250.350066  17.419601  18.263386  322  \n",
       "\n",
       "[1 rows x 171 columns]"
      ]
     },
     "execution_count": 49,
     "metadata": {},
     "output_type": "execute_result"
    }
   ],
   "source": [
    "usdrates = pd.DataFrame([rates])\n",
    "usdrates.head(20)"
   ]
  },
  {
   "cell_type": "markdown",
   "metadata": {},
   "source": [
    "6.2 Selecting only the currencys I actually need conversion for the quotations I have in each country"
   ]
  },
  {
   "cell_type": "code",
   "execution_count": 48,
   "metadata": {},
   "outputs": [
    {
     "data": {
      "text/plain": [
       "array(['EUR', 'DKK', 'PLN', 'RON', 'RUB', 'GBX', 'UAH', 'ARS', 'BRL',\n",
       "       'CAD', 'CLP', 'COP', 'MXN', 'USD', 'CNY', 'KRW'], dtype=object)"
      ]
     },
     "execution_count": 48,
     "metadata": {},
     "output_type": "execute_result"
    }
   ],
   "source": [
    "actual_currency = pricing['moeda'].unique()\n",
    "actual_currency\n"
   ]
  },
  {
   "cell_type": "code",
   "execution_count": 35,
   "metadata": {},
   "outputs": [
    {
     "data": {
      "text/plain": [
       "0     EUR\n",
       "1     DKK\n",
       "2     EUR\n",
       "3     EUR\n",
       "4     EUR\n",
       "5     EUR\n",
       "6     PLN\n",
       "7     RON\n",
       "8     RUB\n",
       "9     EUR\n",
       "10    GBX\n",
       "11    UAH\n",
       "12    ARS\n",
       "13    BRL\n",
       "14    BRL\n",
       "15    CAD\n",
       "16    CAD\n",
       "17    CLP\n",
       "18    COP\n",
       "19    MXN\n",
       "20    USD\n",
       "21    CNY\n",
       "22    KRW\n",
       "Name: moeda, dtype: object"
      ]
     },
     "execution_count": 35,
     "metadata": {},
     "output_type": "execute_result"
    }
   ],
   "source": [
    "active_currency = pricing.moeda\n",
    "active_currency"
   ]
  },
  {
   "cell_type": "markdown",
   "metadata": {},
   "source": [
    "Filtering the ACTUAL CURRENCIES I need (16 only of actual_currencies) from the total FX rates I've have caputred"
   ]
  },
  {
   "cell_type": "code",
   "execution_count": 67,
   "metadata": {},
   "outputs": [
    {
     "data": {
      "text/plain": [
       "Index(['AED', 'AFN', 'ALL', 'AMD', 'ANG', 'AOA', 'ARS', 'AUD', 'AWG', 'AZN',\n",
       "       ...\n",
       "       'XCD', 'XDR', 'XOF', 'XPD', 'XPF', 'XPT', 'YER', 'ZAR', 'ZMW', 'ZWL'],\n",
       "      dtype='object', length=171)"
      ]
     },
     "execution_count": 67,
     "metadata": {},
     "output_type": "execute_result"
    }
   ],
   "source": [
    "usdrates.columns"
   ]
  },
  {
   "cell_type": "code",
   "execution_count": 69,
   "metadata": {},
   "outputs": [
    {
     "ename": "NameError",
     "evalue": "name 'usrates' is not defined",
     "output_type": "error",
     "traceback": [
      "\u001b[0;31m---------------------------------------------------------------------------\u001b[0m",
      "\u001b[0;31mNameError\u001b[0m                                 Traceback (most recent call last)",
      "\u001b[0;32m<ipython-input-69-6469d89eb4a5>\u001b[0m in \u001b[0;36m<module>\u001b[0;34m\u001b[0m\n\u001b[0;32m----> 1\u001b[0;31m \u001b[0;32mfor\u001b[0m \u001b[0mactual_currency\u001b[0m \u001b[0;32min\u001b[0m \u001b[0musrates\u001b[0m\u001b[0;34m:\u001b[0m\u001b[0;34m\u001b[0m\u001b[0;34m\u001b[0m\u001b[0m\n\u001b[0m\u001b[1;32m      2\u001b[0m     \u001b[0mprint\u001b[0m \u001b[0;34m(\u001b[0m\u001b[0musdrates\u001b[0m\u001b[0;34m)\u001b[0m\u001b[0;34m\u001b[0m\u001b[0;34m\u001b[0m\u001b[0m\n",
      "\u001b[0;31mNameError\u001b[0m: name 'usrates' is not defined"
     ]
    }
   ],
   "source": [
    "for actual_currency in usrates:\n",
    "    print (usdrates)"
   ]
  },
  {
   "cell_type": "markdown",
   "metadata": {},
   "source": [
    "7. Plot histogram of most competitive markets"
   ]
  },
  {
   "cell_type": "code",
   "execution_count": null,
   "metadata": {},
   "outputs": [],
   "source": []
  },
  {
   "cell_type": "code",
   "execution_count": null,
   "metadata": {},
   "outputs": [],
   "source": []
  },
  {
   "cell_type": "markdown",
   "metadata": {},
   "source": [
    "8. Export to CSV file for further temporal analisys"
   ]
  },
  {
   "cell_type": "code",
   "execution_count": null,
   "metadata": {},
   "outputs": [],
   "source": []
  },
  {
   "cell_type": "code",
   "execution_count": null,
   "metadata": {},
   "outputs": [],
   "source": []
  }
 ],
 "metadata": {
  "colab": {
   "name": "Untitled12.ipynb",
   "provenance": [],
   "version": "0.3.2"
  },
  "kernelspec": {
   "display_name": "Python 3",
   "language": "python",
   "name": "python3"
  },
  "language_info": {
   "codemirror_mode": {
    "name": "ipython",
    "version": 3
   },
   "file_extension": ".py",
   "mimetype": "text/x-python",
   "name": "python",
   "nbconvert_exporter": "python",
   "pygments_lexer": "ipython3",
   "version": "3.7.6"
  }
 },
 "nbformat": 4,
 "nbformat_minor": 1
}
